{
 "cells": [
  {
   "cell_type": "markdown",
   "metadata": {},
   "source": [
    "# Exercícios de fixação sobre: Pandas, Matplotlib e Seaborn\n",
    "\n",
    "Elaborado por <a\n",
    "href=\"https://www.linkedin.com/in/bruno-coelho-277519129/\">Bruno Gomes\n",
    "Coelho</a>, para as aulas do grupo [DATA](https://github.com/icmc-data).\n",
    "\n",
    "### Instruções:\n",
    "\n",
    "Siga o passo do notebook, adiconando seu códiga toda vez que ver um `# your code here`.\n",
    "Caso o prazo ainda esteja aberto, (até a próxima aula)\n",
    "submeta sua resposta [nesse google\n",
    "forms](https://goo.gl/forms/6pXx1AjD4rjES1Tp2) para saber quantas acertou.\n",
    "\n",
    "<br>\n",
    "<br>\n",
    "<br>\n",
    "<br>\n",
    "<br>\n",
    "\n",
    "<br>\n",
    "\n",
    "## Carregas bibliotecas úteis e setar padrões\n",
    "\n",
    "<br>"
   ]
  },
  {
   "cell_type": "code",
   "execution_count": 1,
   "metadata": {
    "attributes": {
     "classes": [],
     "id": "",
     "n": "2"
    }
   },
   "outputs": [],
   "source": [
    "import pandas as pd\n",
    "import numpy as np\n",
    "\n",
    "import matplotlib.pyplot as plt\n",
    "%matplotlib inline\n",
    "import seaborn as sns \n",
    "sns.set() # Essa linha configura para usar os padrões do seaborn, recomendo"
   ]
  },
  {
   "cell_type": "markdown",
   "metadata": {},
   "source": [
    "<br>\n",
    "\n",
    "## Carregar o dataset\n",
    "\n",
    "Para este exercício, usaremos o conjunto de dados\n",
    "do [Boston Housing](https://archive.ics.uci.edu/ml/machine-learning-\n",
    "databases/housing/). Com eles temos dados socio-económicos de uma região, e o\n",
    "preço médio das casas daquela região.\n",
    "\n",
    "Para facilitar nossa vida, não vamos\n",
    "pegar os dados do UCI e sim direto da biblioteca Scikit-Learn, que usaremos mais\n",
    "a fundo nas próximas aulas. Para instalar ela, uma dessas 3 opções é para dar\n",
    "certo:\n",
    "\n",
    "- pip install scikit-learn\n",
    "- conda install scikit-learn\n",
    "- python3 -m pip\n",
    "install scikit-learn\n",
    "- sudo python3 -m pip install scikit-learn\n",
    "\n",
    "Se tudo falhar,\n",
    "de uma olhada no [guia deles](https://scikit-learn.org/stable/install.html) de\n",
    "instalação ou fale com um dos organizadores.\n",
    "\n",
    "<br>"
   ]
  },
  {
   "cell_type": "code",
   "execution_count": 2,
   "metadata": {
    "attributes": {
     "classes": [],
     "id": "",
     "n": "3"
    }
   },
   "outputs": [],
   "source": [
    "# Depois de instalado, essa linha deve rodar sem erro:\n",
    "from sklearn.datasets import load_boston"
   ]
  },
  {
   "cell_type": "code",
   "execution_count": 3,
   "metadata": {
    "attributes": {
     "classes": [],
     "id": "",
     "n": "4"
    }
   },
   "outputs": [
    {
     "data": {
      "text/html": [
       "<div>\n",
       "<style scoped>\n",
       "    .dataframe tbody tr th:only-of-type {\n",
       "        vertical-align: middle;\n",
       "    }\n",
       "\n",
       "    .dataframe tbody tr th {\n",
       "        vertical-align: top;\n",
       "    }\n",
       "\n",
       "    .dataframe thead th {\n",
       "        text-align: right;\n",
       "    }\n",
       "</style>\n",
       "<table border=\"1\" class=\"dataframe\">\n",
       "  <thead>\n",
       "    <tr style=\"text-align: right;\">\n",
       "      <th></th>\n",
       "      <th>CRIM</th>\n",
       "      <th>ZN</th>\n",
       "      <th>INDUS</th>\n",
       "      <th>CHAS</th>\n",
       "      <th>NOX</th>\n",
       "      <th>RM</th>\n",
       "      <th>AGE</th>\n",
       "      <th>DIS</th>\n",
       "      <th>RAD</th>\n",
       "      <th>TAX</th>\n",
       "      <th>PTRATIO</th>\n",
       "      <th>B</th>\n",
       "      <th>LSTAT</th>\n",
       "      <th>target</th>\n",
       "    </tr>\n",
       "  </thead>\n",
       "  <tbody>\n",
       "    <tr>\n",
       "      <th>0</th>\n",
       "      <td>0.00632</td>\n",
       "      <td>18.0</td>\n",
       "      <td>2.31</td>\n",
       "      <td>0.0</td>\n",
       "      <td>0.538</td>\n",
       "      <td>6.575</td>\n",
       "      <td>65.2</td>\n",
       "      <td>4.0900</td>\n",
       "      <td>1.0</td>\n",
       "      <td>296.0</td>\n",
       "      <td>15.3</td>\n",
       "      <td>396.90</td>\n",
       "      <td>4.98</td>\n",
       "      <td>24.0</td>\n",
       "    </tr>\n",
       "    <tr>\n",
       "      <th>1</th>\n",
       "      <td>0.02731</td>\n",
       "      <td>0.0</td>\n",
       "      <td>7.07</td>\n",
       "      <td>0.0</td>\n",
       "      <td>0.469</td>\n",
       "      <td>6.421</td>\n",
       "      <td>78.9</td>\n",
       "      <td>4.9671</td>\n",
       "      <td>2.0</td>\n",
       "      <td>242.0</td>\n",
       "      <td>17.8</td>\n",
       "      <td>396.90</td>\n",
       "      <td>9.14</td>\n",
       "      <td>21.6</td>\n",
       "    </tr>\n",
       "    <tr>\n",
       "      <th>2</th>\n",
       "      <td>0.02729</td>\n",
       "      <td>0.0</td>\n",
       "      <td>7.07</td>\n",
       "      <td>0.0</td>\n",
       "      <td>0.469</td>\n",
       "      <td>7.185</td>\n",
       "      <td>61.1</td>\n",
       "      <td>4.9671</td>\n",
       "      <td>2.0</td>\n",
       "      <td>242.0</td>\n",
       "      <td>17.8</td>\n",
       "      <td>392.83</td>\n",
       "      <td>4.03</td>\n",
       "      <td>34.7</td>\n",
       "    </tr>\n",
       "    <tr>\n",
       "      <th>3</th>\n",
       "      <td>0.03237</td>\n",
       "      <td>0.0</td>\n",
       "      <td>2.18</td>\n",
       "      <td>0.0</td>\n",
       "      <td>0.458</td>\n",
       "      <td>6.998</td>\n",
       "      <td>45.8</td>\n",
       "      <td>6.0622</td>\n",
       "      <td>3.0</td>\n",
       "      <td>222.0</td>\n",
       "      <td>18.7</td>\n",
       "      <td>394.63</td>\n",
       "      <td>2.94</td>\n",
       "      <td>33.4</td>\n",
       "    </tr>\n",
       "    <tr>\n",
       "      <th>4</th>\n",
       "      <td>0.06905</td>\n",
       "      <td>0.0</td>\n",
       "      <td>2.18</td>\n",
       "      <td>0.0</td>\n",
       "      <td>0.458</td>\n",
       "      <td>7.147</td>\n",
       "      <td>54.2</td>\n",
       "      <td>6.0622</td>\n",
       "      <td>3.0</td>\n",
       "      <td>222.0</td>\n",
       "      <td>18.7</td>\n",
       "      <td>396.90</td>\n",
       "      <td>5.33</td>\n",
       "      <td>36.2</td>\n",
       "    </tr>\n",
       "  </tbody>\n",
       "</table>\n",
       "</div>"
      ],
      "text/plain": [
       "      CRIM    ZN  INDUS  CHAS    NOX     RM   AGE     DIS  RAD    TAX  \\\n",
       "0  0.00632  18.0   2.31   0.0  0.538  6.575  65.2  4.0900  1.0  296.0   \n",
       "1  0.02731   0.0   7.07   0.0  0.469  6.421  78.9  4.9671  2.0  242.0   \n",
       "2  0.02729   0.0   7.07   0.0  0.469  7.185  61.1  4.9671  2.0  242.0   \n",
       "3  0.03237   0.0   2.18   0.0  0.458  6.998  45.8  6.0622  3.0  222.0   \n",
       "4  0.06905   0.0   2.18   0.0  0.458  7.147  54.2  6.0622  3.0  222.0   \n",
       "\n",
       "   PTRATIO       B  LSTAT  target  \n",
       "0     15.3  396.90   4.98    24.0  \n",
       "1     17.8  396.90   9.14    21.6  \n",
       "2     17.8  392.83   4.03    34.7  \n",
       "3     18.7  394.63   2.94    33.4  \n",
       "4     18.7  396.90   5.33    36.2  "
      ]
     },
     "execution_count": 3,
     "metadata": {},
     "output_type": "execute_result"
    }
   ],
   "source": [
    "# Como dataset vem dividido em features e target, \n",
    "#      vamos juntar os dois num único DataFrame.\n",
    "boston_data = load_boston()\n",
    "\n",
    "# Primeiro as features\n",
    "df = pd.DataFrame(boston_data.data, columns=boston_data.feature_names)\n",
    "\n",
    "# Agora o nosso target (valor que queremos prever)\n",
    "df[\"target\"] = boston_data.target\n",
    "\n",
    "df.head()"
   ]
  },
  {
   "cell_type": "markdown",
   "metadata": {},
   "source": [
    "<br>\n",
    "\n",
    "## Descreva os dados da nossa tabela\n",
    "\n",
    "DICA: A função que vc quer mostra\n",
    "quantidade, média, std, (..) para cada uma de nossas colunas...\n",
    "\n",
    "<br>"
   ]
  },
  {
   "cell_type": "code",
   "execution_count": null,
   "metadata": {
    "attributes": {
     "classes": [],
     "id": "",
     "n": "25"
    }
   },
   "outputs": [],
   "source": [
    "# your code here"
   ]
  },
  {
   "cell_type": "markdown",
   "metadata": {},
   "source": [
    "<br>\n",
    "\n",
    "## Com base no resultado da função acima, responda:\n",
    "\n",
    "<br>\n",
    "\n",
    "<br>\n",
    "\n",
    "## Q1: Qual feature possui a maior média (mean)?\n",
    "\n",
    "- CRIM\n",
    "- ZN\n",
    "- INDUS\n",
    "- CHAS\n",
    "- NOX\n",
    "- RM\n",
    "- AGE\n",
    "- DIS\n",
    "- RAD\n",
    "- TAX\n",
    "- PTRATIO\n",
    "- B\n",
    "- LSTAT\n",
    "- target\n",
    "\n",
    "\n",
    "<br>\n",
    "\n",
    "<br>\n",
    "\n",
    "## Q2: Quantas features possuem todos os valores entre [0, 1] ?\n",
    "**OBS**: A\n",
    "notação de colchetes indica que os extremos são inclusos.\n",
    "\n",
    "- 0\n",
    "- 1\n",
    "- 2\n",
    "- 3\n",
    "- 4\n",
    "<br>\n",
    "\n",
    "<br>\n",
    "Voltanto agora a codar, responda....\n",
    "\n",
    "## Q3: Essa base possui nulos?\n",
    "- Não\n",
    "- Sim\n",
    "\n",
    "**OBS**: Se possuir nulos, remova eles da base nessa célula abaixo para\n",
    "não influenciarem no resto do exercício\n",
    "\n",
    "<br>"
   ]
  },
  {
   "cell_type": "code",
   "execution_count": null,
   "metadata": {
    "attributes": {
     "classes": [],
     "id": "",
     "n": "31"
    }
   },
   "outputs": [],
   "source": [
    "# your code here"
   ]
  },
  {
   "cell_type": "markdown",
   "metadata": {},
   "source": [
    "<br>\n",
    "\n",
    "No nossa conjunto de dados, cada linha representa uma região diferente,\n",
    "com divesas informações daquela região em cada coluna;\n",
    "\n",
    "Nossa coluna \"target\"\n",
    "contem o preço da médio das casas daquela região.\n",
    "\n",
    "Vale a pena ressaltar que o\n",
    "preço está em milhares de dólares!\n",
    "\n",
    "Vamos analisar as casas que custam\n",
    "mais/menos de 20 míl.\n",
    "\n",
    "## Q4: Aproximadamente qual porcentagem de regiões possuem um preço maior ou igual a 20 míl doláres?\n",
    "\n",
    "- 32 %\n",
    "- 47 %\n",
    "- 54 %\n",
    "- 63 %\n",
    "\n",
    "<br>\n"
   ]
  },
  {
   "cell_type": "code",
   "execution_count": null,
   "metadata": {
    "attributes": {
     "classes": [],
     "id": "",
     "n": "36"
    }
   },
   "outputs": [],
   "source": [
    "# your code here"
   ]
  },
  {
   "cell_type": "markdown",
   "metadata": {},
   "source": [
    "<br>\n",
    "\n",
    "No nosso conjunt de dados, existe uma feature chamada **CHAS**. Ela indica\n",
    "se aquela região está ou não próxima do [rio\n",
    "Charles](https://en.wikipedia.org/wiki/Charles_River). \n",
    "\n",
    "Vamos verificar que ela\n",
    "só possui dois valores, 0 ou 1.\n",
    "\n",
    "Nesse caso, 1 indica que a região está próxima\n",
    "do rio.\n",
    "\n",
    "<br>"
   ]
  },
  {
   "cell_type": "code",
   "execution_count": null,
   "metadata": {
    "attributes": {
     "classes": [],
     "id": "",
     "n": "50"
    }
   },
   "outputs": [],
   "source": [
    "# De fato, só dois valores.\n",
    "df[\"CHAS\"].value_counts()"
   ]
  },
  {
   "cell_type": "markdown",
   "metadata": {},
   "source": [
    "<br>\n",
    "\n",
    "Queremos saber se o fato de estar mais perto do rio faz uma diferença no\n",
    "preço da casa;\n",
    "\n",
    "Para isso, podemos plotar a distribuição do preço (\"target\"),\n",
    "tanto para quando está próxima do rio, quando para não esta e ver se há uma\n",
    "diferença. \n",
    "\n",
    "## Q5: Considerando casas perto e longes do rio, assinale as alternativas corretas:\n",
    "\n",
    "- As casas perto do rio parecem se concentrar mais em\n",
    "volta de 20 míl doláres do que as longes do rio.\n",
    "\n",
    "- A distribuição de preço para\n",
    "as casas próximas ao rio parece ser uma [distribuição\n",
    "bimodal](https://en.wikipedia.org/wiki/Multimodal_distribution)\n",
    "\n",
    "- Parece que\n",
    "casas longe do rio tendem a estar distribuidas nas faixas caras (acima de 40\n",
    "míl) mais que as casas perto do rio.\n",
    "\n",
    "**OBS**: Conseguimos fazer isso em duas\n",
    "linhas! (mas pode quebrar em mais para a indexação ficar mais legível se quiser)\n",
    "\n",
    "**OBS 2**: Lembra de um tal parâmetro de \"label\" que usamos em algum tipo de\n",
    "plot...?\n",
    "\n",
    "**OBS 3**: Use `hist=False` para ficar mais bonitinho ;)\n",
    "\n",
    "<br>"
   ]
  },
  {
   "cell_type": "code",
   "execution_count": null,
   "metadata": {
    "attributes": {
     "classes": [],
     "id": "",
     "n": "59"
    }
   },
   "outputs": [],
   "source": [
    "# your code here"
   ]
  },
  {
   "cell_type": "markdown",
   "metadata": {},
   "source": [
    "<br>\n",
    "\n",
    "Vamos agora considerar um subconjunto de features para analisar as suas\n",
    "distribuições por quartis.\n",
    "\n",
    "<br>"
   ]
  },
  {
   "cell_type": "code",
   "execution_count": null,
   "metadata": {
    "attributes": {
     "classes": [],
     "id": "",
     "n": "80"
    }
   },
   "outputs": [],
   "source": [
    "subset = df.columns[[2, 4, 5, 6, 8, 10, 12]]"
   ]
  },
  {
   "cell_type": "markdown",
   "metadata": {},
   "source": [
    "<br>\n",
    "\n",
    "Plote a distruibuição em quartis para cada uma das colunas definidas\n",
    "acima. Perceba que consegue fazer isso com um `for` se lembrar de chamar\n",
    "`plt.show()` para cada iteração.\n",
    "\n",
    "Dessa forma, sera gerado len(subset) plots, um\n",
    "debaixo do outro\n",
    "\n",
    "<br>"
   ]
  },
  {
   "cell_type": "code",
   "execution_count": null,
   "metadata": {
    "attributes": {
     "classes": [],
     "id": "",
     "n": "82"
    }
   },
   "outputs": [],
   "source": [
    "# your code here"
   ]
  },
  {
   "cell_type": "markdown",
   "metadata": {},
   "source": [
    "<br>\n",
    "\n",
    "Agora responda:\n",
    "\n",
    "## Q6: Qual feature possui o maior região entre a mediana e o 3<sup>o</sup> quartil? \n",
    "\n",
    "- INDUS\n",
    "- NOX\n",
    "- RM\n",
    "- AGE\n",
    "- RAD\n",
    "- PTRATIO\n",
    "- LSTAT\n",
    "<br>\n",
    "\n",
    "<br>\n",
    "\n",
    "## Q7: Qual feature possui outliers tanto a esquerda como a direita das faixas de valores esperados?\n",
    "\n",
    "- INDUS\n",
    "- NOX\n",
    "- RM\n",
    "- AGE\n",
    "- RAD\n",
    "- PTRATIO\n",
    "- LSTAT\n",
    "\n",
    "\n",
    "**OBS**: Use como definição de\n",
    "[outliers](https://en.wikipedia.org/wiki/Outlier), quem não está na faixa\n",
    "(Q1−1.5⋅IQR, Q3+1.5⋅IQR).\n",
    "\n",
    "<br>\n",
    "\n",
    "<br>\n",
    "\n",
    "Vamos agora considerar um subconjunto de features para analisar as suas\n",
    "distribuições e correlações\n",
    "\n",
    "<br>"
   ]
  },
  {
   "cell_type": "code",
   "execution_count": null,
   "metadata": {
    "attributes": {
     "classes": [],
     "id": "",
     "n": "70"
    }
   },
   "outputs": [],
   "source": [
    "subset = ['RM', 'AGE', 'DIS', 'B', 'LSTAT', 'target']"
   ]
  },
  {
   "cell_type": "markdown",
   "metadata": {},
   "source": [
    "<br>\n",
    "\n",
    "Plote as relações entre essas 5 features acimas e responda:\n",
    "\n",
    "<br>"
   ]
  },
  {
   "cell_type": "code",
   "execution_count": null,
   "metadata": {
    "attributes": {
     "classes": [],
     "id": "",
     "n": "71"
    }
   },
   "outputs": [],
   "source": [
    "sns.pairplot(df[subset])"
   ]
  },
  {
   "cell_type": "markdown",
   "metadata": {},
   "source": [
    "<br>\n",
    "\n",
    "## Q8: Qual feature parece ter a grande maioria dos seus valores numa pequena faixa?\n",
    "\n",
    "- RM\n",
    "\n",
    "- AGE\n",
    "- DIS\n",
    "- B\n",
    "- LSTAT\n",
    "- target\n",
    "\n",
    "<br>\n",
    "\n",
    "## Aqui acabam as perguntas :)\n",
    "\n",
    "![](https://i.imgflip.com/s5spp.jpg)\n",
    "\n",
    "## Como um bonus, vamos agora exemplificar a importância de entender seus dados, e como o trabalho de um cientista de dados pode ser benéfico (ou não) para a sociedade.\n",
    "\n",
    "<br>\n",
    "\n",
    "Sempre que lidamos com dados reais, criando modelos que impactam as\n",
    "pesssoas, temos que ter um cuidado gigante.\n",
    "\n",
    "Nesse nosso pequeno problema por\n",
    "exemplo, a variável **B** possui uma relação com a quantidade de pessoas que se\n",
    "autodeclaram afrodescendente na cidade da região analisada; \n",
    "\n",
    "Perceba que em\n",
    "nenhuma altura da análise, nos preocupamos em como os dados foram adiquiridos e\n",
    "se foram anonimizados; nesse caso os dados não são tão pessoais pois são uma\n",
    "média de uma região, mas poderia ser um dataset sobre consumidores diferentes,\n",
    "em que informações pessoais são coletadas sem as devidas permissões;\n",
    "\n",
    "<br>\n",
    "\n",
    "<br>\n",
    "\n",
    "Vamos analisar melhor a variável B. Ela é definida como B = 1000(Bk -\n",
    "0.63)^2 onde Bk é a proporção de pessoas autodeclaradas afrodescendente. Com\n",
    "base na imagem abaixo, podemos perceber que valores acima de 150 para a\n",
    "variávelo B indicam um Bk alto:\n",
    "\n",
    "<br>\n",
    "\n"
   ]
  },
  {
   "cell_type": "markdown",
   "metadata": {},
   "source": [
    "\n",
    "<br>\n",
    "\n",
    "![](https://storage.googleapis.com/kaggle-forum-message-attachments/inbox/372266/e30bf91054037667a9b69abb600ba97c/Screen%20Shot%202018-09-24%20at%204.47.17%20PM.png)\n",
    "\n",
    "<br>\n",
    "\n",
    "Vamos analisar agora o preço das casas em relação a B. Vamos definir um\n",
    "index_binário, B > 150.\n",
    "\n",
    "<br>"
   ]
  },
  {
   "cell_type": "code",
   "execution_count": null,
   "metadata": {
    "attributes": {
     "classes": [],
     "id": "",
     "n": "115"
    }
   },
   "outputs": [],
   "source": [
    "low_bk = df[\"B\"] > 150"
   ]
  },
  {
   "cell_type": "code",
   "execution_count": null,
   "metadata": {
    "attributes": {
     "classes": [],
     "id": "",
     "n": "116"
    }
   },
   "outputs": [],
   "source": [
    "sns.distplot(df[low_bk][\"target\"], label=\"low bk\", hist=False)\n",
    "sns.distplot(df[~low_bk][\"target\"], label=\"high bk\", hist=False)"
   ]
  },
  {
   "cell_type": "markdown",
   "metadata": {},
   "source": [
    "<br>\n",
    "\n",
    "Aqui já conseguimos ver um possível problema de usar dados sem pensar\n",
    "sobre eles no nosso modelo; Especialmente em problemas que envolvem [Séries\n",
    "Temporais](https://en.wikipedia.org/wiki/Time_series) (isto é, dados históricos\n",
    "que variam ao longo do tempo), toda vez que voltamos no passado, estamos dando a\n",
    "chance do nosso modelo apreender padrões do passado - e com a escala que IA é\n",
    "utilizado, tendo um grande impacto na vida dos outros.\n",
    "\n",
    "<br>\n",
    "\n",
    "<br>\n",
    "\n",
    "Esse problema também não é tão simples de ser resolvido: se simplesmente\n",
    "não coletarmos dados sensíveis, que podem causar nosso modelo a discriminar,\n",
    "como podemos saber se estamos discriminando?\n",
    "\n",
    "Variáveis frequentemente possuem\n",
    "correlações no mundo real: Se não queremos discriminar por gênero por exemplo,\n",
    "não bastaria só eliminar essa coluna, pois frequentemente o peso e altura\n",
    "possuem uma correlação.\n",
    "\n",
    "<br>\n",
    "\n",
    "<br>\n",
    "\n",
    "Resumindo, perceba a importância de entender seus dados e os resultados do\n",
    "seu trabalho na sociedade conforme progredir na carreira de cientista de dados;\n",
    "Um cientista é aquele que questiona tudo - leve isso adiante :)\n",
    "\n",
    "<br>\n",
    "\n",
    "![](https://s.hdnux.com/photos/70/27/07/14774752/3/920x920.jpg)\n",
    "\n",
    "Não esqueça de submeter as respostas\n",
    "[AQUI](https://goo.gl/forms/6pXx1AjD4rjES1Tp2)\n",
    "\n",
    "e preencher nosso feedback [AQUI](https://goo.gl/forms/GkQv4FEXBCMrtDa43)"
   ]
  }
 ],
 "metadata": {
  "kernelspec": {
   "display_name": "Python 3",
   "language": "python",
   "name": "python3"
  },
  "language_info": {
   "codemirror_mode": {
    "name": "ipython",
    "version": 3
   },
   "file_extension": ".py",
   "mimetype": "text/x-python",
   "name": "python",
   "nbconvert_exporter": "python",
   "pygments_lexer": "ipython3",
   "version": "3.6.8"
  },
  "toc": {
   "base_numbering": 1,
   "nav_menu": {},
   "number_sections": true,
   "sideBar": true,
   "skip_h1_title": false,
   "title_cell": "Table of Contents",
   "title_sidebar": "Contents",
   "toc_cell": false,
   "toc_position": {},
   "toc_section_display": true,
   "toc_window_display": false
  }
 },
 "nbformat": 4,
 "nbformat_minor": 2
}
