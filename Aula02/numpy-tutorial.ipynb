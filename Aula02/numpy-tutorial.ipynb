{
 "cells": [
  {
   "cell_type": "markdown",
   "metadata": {},
   "source": [
    "# Numpy\n",
    "\n",
    "Biblioteca para operações numéricas do Python.\n",
    "\n",
    "- [Array](#array)\n",
    "    - [Gerando arrays](#gerando)\n",
    "    - [Indexando](#indexando)\n",
    "        - [Array 1-D](#1d)\n",
    "        - [Array N-D](#nd)\n",
    "    - [Operações](#operacoes)\n",
    "        - [Com um escalar](#operacoes-escalar)\n",
    "        - [Com um outro array](#operacoes-array)\n",
    "    - [Funções Importantes](#funcoes)\n",
    "        - [Sum](#sum)\n",
    "        - [Reshape](#reshape)\n",
    "        - [Argmax](#argmax)\n",
    "        - [Arange](#arange)\n",
    "- [Teste de velocidade](#velocidade)\n",
    "    - [Multiplicação por constante](#mult)\n",
    "    - [Soma por linha](#sumlines)\n",
    "    - [Argmax](#vargmax)"
   ]
  },
  {
   "cell_type": "code",
   "execution_count": 4,
   "metadata": {},
   "outputs": [],
   "source": [
    "# Importando a biblioteca\n",
    "import numpy as np"
   ]
  },
  {
   "cell_type": "markdown",
   "metadata": {},
   "source": [
    "\n",
    "## <span id='array'>Array</span>\n",
    "Generalização de vetor com qualquer número de dimenções. É um dos conceitos centrais do NumPy"
   ]
  },
  {
   "cell_type": "markdown",
   "metadata": {},
   "source": [
    "![Array](https://www.oreilly.com/library/view/elegant-scipy/9781491922927/assets/elsp_0105.png \"array\")"
   ]
  },
  {
   "cell_type": "code",
   "execution_count": 5,
   "metadata": {},
   "outputs": [
    {
     "name": "stdout",
     "output_type": "stream",
     "text": [
      "[1 2 3 4 5]\n",
      "(5,)\n",
      "[23  2  3  4  5]\n"
     ]
    }
   ],
   "source": [
    "l = np.array([1, 2, 3, 4, 5])\n",
    "\n",
    "print(l)\n",
    "print(l.shape) # Shape é o tamanho da array em cada dimensão\n",
    "l[0] = 23 # Podemos alterar o valor de uma entrada da array\n",
    "print(l)"
   ]
  },
  {
   "cell_type": "code",
   "execution_count": 6,
   "metadata": {},
   "outputs": [
    {
     "name": "stdout",
     "output_type": "stream",
     "text": [
      "[[1 2 3]\n",
      " [4 5 6]]\n",
      "(2, 3)\n"
     ]
    }
   ],
   "source": [
    "l = np.array([[1, 2, 3], [4, 5, 6]]) # Pode ter duas dimensões\n",
    "\n",
    "print(l)\n",
    "print(l.shape)"
   ]
  },
  {
   "cell_type": "code",
   "execution_count": 7,
   "metadata": {},
   "outputs": [
    {
     "data": {
      "text/plain": [
       "2"
      ]
     },
     "execution_count": 7,
     "metadata": {},
     "output_type": "execute_result"
    }
   ],
   "source": [
    "# Podemos acessar cada elemento do shape\n",
    "l.shape[0]"
   ]
  },
  {
   "cell_type": "markdown",
   "metadata": {},
   "source": [
    "**PERGUNTA:** Qual o shape de uma imagem RGB com dimensões 1280x720? E de uma base de dados com 5000 destas imagens?"
   ]
  },
  {
   "cell_type": "markdown",
   "metadata": {},
   "source": [
    "### <span id=\"gerando\">Gerando arrays</span>\n",
    "Além de arrays com valores específicos temos outras formas de criar esses objetos"
   ]
  },
  {
   "cell_type": "code",
   "execution_count": 8,
   "metadata": {},
   "outputs": [
    {
     "data": {
      "text/plain": [
       "array([[0., 0.],\n",
       "       [0., 0.]])"
      ]
     },
     "execution_count": 8,
     "metadata": {},
     "output_type": "execute_result"
    }
   ],
   "source": [
    "a = np.zeros((2,2)) #Cria um array só com zeros com shape (2,2)\n",
    "a"
   ]
  },
  {
   "cell_type": "code",
   "execution_count": 9,
   "metadata": {
    "scrolled": true
   },
   "outputs": [
    {
     "data": {
      "text/plain": [
       "array([[1., 1.],\n",
       "       [1., 1.]])"
      ]
     },
     "execution_count": 9,
     "metadata": {},
     "output_type": "execute_result"
    }
   ],
   "source": [
    "a = np.ones((2,2)) #Cria um array só com uns com shape (2,2)\n",
    "a"
   ]
  },
  {
   "cell_type": "code",
   "execution_count": 10,
   "metadata": {
    "scrolled": true
   },
   "outputs": [
    {
     "data": {
      "text/plain": [
       "array([[0.17982711, 0.27166405],\n",
       "       [0.57580363, 0.70458652],\n",
       "       [0.52587569, 0.58502345]])"
      ]
     },
     "execution_count": 10,
     "metadata": {},
     "output_type": "execute_result"
    }
   ],
   "source": [
    "a = np.random.random((3,2)) #Cria um array de shape (3,2) com valores aleatórios\n",
    "a"
   ]
  },
  {
   "cell_type": "code",
   "execution_count": 11,
   "metadata": {},
   "outputs": [
    {
     "data": {
      "text/plain": [
       "array([[ 7, 16],\n",
       "       [ 3, 13],\n",
       "       [19, 12]])"
      ]
     },
     "execution_count": 11,
     "metadata": {},
     "output_type": "execute_result"
    }
   ],
   "source": [
    "a = np.random.randint(20, size=(3,2)) # Cria um array com valores aleatorios inteiros (20 é o valor maxímo)\n",
    "a"
   ]
  },
  {
   "cell_type": "code",
   "execution_count": 12,
   "metadata": {},
   "outputs": [
    {
     "data": {
      "text/plain": [
       "array([0, 1, 2, 3, 4])"
      ]
     },
     "execution_count": 12,
     "metadata": {},
     "output_type": "execute_result"
    }
   ],
   "source": [
    "np.arange(5) # Cria um vetor de 0 a 4"
   ]
  },
  {
   "cell_type": "markdown",
   "metadata": {},
   "source": [
    "### <span id=\"indexando\">Indexando arrays</span>"
   ]
  },
  {
   "cell_type": "markdown",
   "metadata": {},
   "source": [
    "#### <span id=\"1d\">Array 1D</span>"
   ]
  },
  {
   "cell_type": "code",
   "execution_count": 13,
   "metadata": {},
   "outputs": [
    {
     "data": {
      "text/plain": [
       "array([ 8,  0, 39, 35, 17,  2, 35, 23, 19, 40])"
      ]
     },
     "execution_count": 13,
     "metadata": {},
     "output_type": "execute_result"
    }
   ],
   "source": [
    "a = np.random.randint(50, size=(10,))\n",
    "a"
   ]
  },
  {
   "cell_type": "code",
   "execution_count": 14,
   "metadata": {},
   "outputs": [
    {
     "name": "stdout",
     "output_type": "stream",
     "text": [
      "39\n",
      "[ 8  0 39 35]\n",
      "[35 17  2]\n"
     ]
    }
   ],
   "source": [
    "print(a[2]) # Igual ao python puro\n",
    "print(a[:4]) # Igual ao python puro\n",
    "print(a[3:6]) # Igual ao python puro"
   ]
  },
  {
   "cell_type": "code",
   "execution_count": 15,
   "metadata": {},
   "outputs": [
    {
     "data": {
      "text/plain": [
       "array([ 8, 39, 35])"
      ]
     },
     "execution_count": 15,
     "metadata": {},
     "output_type": "execute_result"
    }
   ],
   "source": [
    "idx = np.array([0,2,3]) # Podemos usar outra array para indexar só algumas posições\n",
    "a[idx]"
   ]
  },
  {
   "cell_type": "code",
   "execution_count": 16,
   "metadata": {},
   "outputs": [
    {
     "data": {
      "text/plain": [
       "array([False, False,  True,  True,  True, False,  True,  True,  True,\n",
       "        True])"
      ]
     },
     "execution_count": 16,
     "metadata": {},
     "output_type": "execute_result"
    }
   ],
   "source": [
    "maior10 = a > 10 # Array de booleanos indicando se é maior que 10\n",
    "maior10"
   ]
  },
  {
   "cell_type": "code",
   "execution_count": 17,
   "metadata": {
    "scrolled": true
   },
   "outputs": [
    {
     "name": "stdout",
     "output_type": "stream",
     "text": [
      "[39 35 17 35 23 19 40]\n",
      "[39 35 17 35 23 19 40]\n"
     ]
    }
   ],
   "source": [
    "print(a[maior10]) # Printa só os valores True do outro array\n",
    "print(a[a > 10]) # Não precisa da variável intermediaria"
   ]
  },
  {
   "cell_type": "markdown",
   "metadata": {},
   "source": [
    "#### <span id=\"nd\">Array N-D</span>"
   ]
  },
  {
   "cell_type": "code",
   "execution_count": 18,
   "metadata": {
    "scrolled": true
   },
   "outputs": [
    {
     "name": "stdout",
     "output_type": "stream",
     "text": [
      "[[25 38 24 47  3 40]\n",
      " [33 16  7 38 32 13]\n",
      " [24 33 22 38 13  1]\n",
      " [34 40  1 46 15 18]]\n"
     ]
    }
   ],
   "source": [
    "a = np.random.randint(50, size=(4,6))\n",
    "print(a)"
   ]
  },
  {
   "cell_type": "code",
   "execution_count": 19,
   "metadata": {
    "scrolled": true
   },
   "outputs": [
    {
     "name": "stdout",
     "output_type": "stream",
     "text": [
      "32\n",
      "32\n"
     ]
    }
   ],
   "source": [
    "print(a[1][4]) # [Linha][Coluna] - Igual ao python puro\n",
    "print(a[1,4]) # [Linha, Coluna] - Separando por virgula"
   ]
  },
  {
   "cell_type": "code",
   "execution_count": 20,
   "metadata": {},
   "outputs": [
    {
     "name": "stdout",
     "output_type": "stream",
     "text": [
      "[[ 7 38 32]\n",
      " [22 38 13]]\n"
     ]
    }
   ],
   "source": [
    "print(a[1:3,2:5]) # Slicing normal"
   ]
  },
  {
   "cell_type": "code",
   "execution_count": 24,
   "metadata": {},
   "outputs": [
    {
     "name": "stdout",
     "output_type": "stream",
     "text": [
      "[40 13  1 18]\n"
     ]
    }
   ],
   "source": [
    "print(a[:,5]) # ':' significa deixar a dimesão inteira (toda o coluna, nesse caso)"
   ]
  },
  {
   "cell_type": "code",
   "execution_count": 25,
   "metadata": {},
   "outputs": [
    {
     "name": "stdout",
     "output_type": "stream",
     "text": [
      "[24 33 22 38 13  1]\n"
     ]
    }
   ],
   "source": [
    "print(a[2,:]) # ':' significa deixar a dimesão inteira (toda a linha, nesse caso)"
   ]
  },
  {
   "cell_type": "markdown",
   "metadata": {},
   "source": [
    "### <span id=\"operacoes\">Operações</span>"
   ]
  },
  {
   "cell_type": "code",
   "execution_count": 26,
   "metadata": {},
   "outputs": [
    {
     "name": "stdout",
     "output_type": "stream",
     "text": [
      "[3 9 3 6 2]\n",
      "[4 3 7 4 2]\n"
     ]
    }
   ],
   "source": [
    "a = np.random.randint(10, size=(5,))\n",
    "b = np.random.randint(10, size=(5,))\n",
    "\n",
    "print(a)\n",
    "print(b)"
   ]
  },
  {
   "cell_type": "code",
   "execution_count": 27,
   "metadata": {},
   "outputs": [
    {
     "name": "stdout",
     "output_type": "stream",
     "text": [
      "[ 7 12 10 10  4]\n",
      "[ 7 12 10 10  4]\n"
     ]
    }
   ],
   "source": [
    "# Soma\n",
    "print(a + b)\n",
    "print(np.add(a, b))"
   ]
  },
  {
   "cell_type": "code",
   "execution_count": 28,
   "metadata": {},
   "outputs": [
    {
     "data": {
      "text/plain": [
       "array([13, 19, 13, 16, 12])"
      ]
     },
     "execution_count": 28,
     "metadata": {},
     "output_type": "execute_result"
    }
   ],
   "source": [
    "a + 10 # Soma 10 em cada elemento"
   ]
  },
  {
   "cell_type": "code",
   "execution_count": 29,
   "metadata": {},
   "outputs": [
    {
     "data": {
      "text/plain": [
       "array([ 9, 81,  9, 36,  4])"
      ]
     },
     "execution_count": 29,
     "metadata": {},
     "output_type": "execute_result"
    }
   ],
   "source": [
    "a ** 2"
   ]
  },
  {
   "cell_type": "code",
   "execution_count": 30,
   "metadata": {},
   "outputs": [
    {
     "name": "stdout",
     "output_type": "stream",
     "text": [
      "[12 27 21 24  4]\n",
      "[12 27 21 24  4]\n"
     ]
    }
   ],
   "source": [
    "# Multiplicação element-wise\n",
    "print(a * b)\n",
    "print(np.multiply(a, b))"
   ]
  },
  {
   "cell_type": "code",
   "execution_count": 31,
   "metadata": {
    "scrolled": true
   },
   "outputs": [
    {
     "name": "stdout",
     "output_type": "stream",
     "text": [
      "[[2 1]\n",
      " [0 4]\n",
      " [1 5]\n",
      " [6 3]\n",
      " [8 5]]\n",
      "[[5 9 5 1]\n",
      " [7 9 9 0]]\n"
     ]
    }
   ],
   "source": [
    "a = np.random.randint(10, size=(5,2))\n",
    "b = np.random.randint(10, size=(2,4))\n",
    "\n",
    "print(a)\n",
    "print(b)"
   ]
  },
  {
   "cell_type": "code",
   "execution_count": 32,
   "metadata": {
    "scrolled": false
   },
   "outputs": [
    {
     "ename": "ValueError",
     "evalue": "operands could not be broadcast together with shapes (5,2) (2,4) ",
     "output_type": "error",
     "traceback": [
      "\u001b[0;31m---------------------------------------------------------------------------\u001b[0m",
      "\u001b[0;31mValueError\u001b[0m                                Traceback (most recent call last)",
      "\u001b[0;32m<ipython-input-32-9c28bc3f545f>\u001b[0m in \u001b[0;36m<module>\u001b[0;34m()\u001b[0m\n\u001b[1;32m      1\u001b[0m \u001b[0;31m# Soma\u001b[0m\u001b[0;34m\u001b[0m\u001b[0;34m\u001b[0m\u001b[0m\n\u001b[0;32m----> 2\u001b[0;31m \u001b[0mprint\u001b[0m\u001b[0;34m(\u001b[0m\u001b[0ma\u001b[0m \u001b[0;34m+\u001b[0m \u001b[0mb\u001b[0m\u001b[0;34m)\u001b[0m\u001b[0;34m\u001b[0m\u001b[0m\n\u001b[0m\u001b[1;32m      3\u001b[0m \u001b[0mprint\u001b[0m\u001b[0;34m(\u001b[0m\u001b[0mnp\u001b[0m\u001b[0;34m.\u001b[0m\u001b[0madd\u001b[0m\u001b[0;34m(\u001b[0m\u001b[0ma\u001b[0m\u001b[0;34m,\u001b[0m \u001b[0mb\u001b[0m\u001b[0;34m)\u001b[0m\u001b[0;34m)\u001b[0m\u001b[0;34m\u001b[0m\u001b[0m\n",
      "\u001b[0;31mValueError\u001b[0m: operands could not be broadcast together with shapes (5,2) (2,4) "
     ]
    }
   ],
   "source": [
    "# Soma\n",
    "print(a + b)\n",
    "print(np.add(a, b))"
   ]
  },
  {
   "cell_type": "markdown",
   "metadata": {},
   "source": [
    "![No](https://media.giphy.com/media/ly8G39g1ujpNm/giphy.gif \"no\")"
   ]
  },
  {
   "cell_type": "code",
   "execution_count": 33,
   "metadata": {},
   "outputs": [
    {
     "name": "stdout",
     "output_type": "stream",
     "text": [
      "[[5 9 8 7]\n",
      " [4 6 5 0]\n",
      " [4 8 7 0]\n",
      " [5 2 5 4]\n",
      " [4 9 1 3]\n",
      " [7 6 5 7]\n",
      " [9 6 2 5]\n",
      " [7 3 2 2]\n",
      " [6 5 7 1]\n",
      " [5 0 0 4]]\n",
      "[0 3 7 9]\n"
     ]
    }
   ],
   "source": [
    "a = np.random.randint(10, size=(10,4))\n",
    "b = np.random.randint(10, size=(4))\n",
    "\n",
    "print(a)\n",
    "print(b)"
   ]
  },
  {
   "cell_type": "code",
   "execution_count": 34,
   "metadata": {
    "scrolled": true
   },
   "outputs": [
    {
     "data": {
      "text/plain": [
       "array([[ 5, 12, 15, 16],\n",
       "       [ 4,  9, 12,  9],\n",
       "       [ 4, 11, 14,  9],\n",
       "       [ 5,  5, 12, 13],\n",
       "       [ 4, 12,  8, 12],\n",
       "       [ 7,  9, 12, 16],\n",
       "       [ 9,  9,  9, 14],\n",
       "       [ 7,  6,  9, 11],\n",
       "       [ 6,  8, 14, 10],\n",
       "       [ 5,  3,  7, 13]])"
      ]
     },
     "execution_count": 34,
     "metadata": {},
     "output_type": "execute_result"
    }
   ],
   "source": [
    "a + b"
   ]
  },
  {
   "cell_type": "markdown",
   "metadata": {},
   "source": [
    "### <span id=\"matematica\">Funções matemática</span>"
   ]
  },
  {
   "cell_type": "code",
   "execution_count": 35,
   "metadata": {},
   "outputs": [
    {
     "name": "stdout",
     "output_type": "stream",
     "text": [
      "[[5 9 8 7]\n",
      " [4 6 5 0]\n",
      " [4 8 7 0]\n",
      " [5 2 5 4]\n",
      " [4 9 1 3]\n",
      " [7 6 5 7]\n",
      " [9 6 2 5]\n",
      " [7 3 2 2]\n",
      " [6 5 7 1]\n",
      " [5 0 0 4]]\n",
      "[[5 4 4 5 4 7 9 7 6 5]\n",
      " [9 6 8 2 9 6 6 3 5 0]\n",
      " [8 5 7 5 1 5 2 2 7 0]\n",
      " [7 0 0 4 3 7 5 2 1 4]]\n"
     ]
    }
   ],
   "source": [
    "print(a)\n",
    "print(a.T) # Faz a transposta da matrix"
   ]
  },
  {
   "cell_type": "code",
   "execution_count": 36,
   "metadata": {},
   "outputs": [
    {
     "name": "stdout",
     "output_type": "stream",
     "text": [
      "[146  53  73  77  61 116  77  41  73  36]\n"
     ]
    }
   ],
   "source": [
    "# Multiplicação de matrizes (Ou produto escalar, se fossem dois vetores)\n",
    "print(np.dot(a, b))"
   ]
  },
  {
   "cell_type": "code",
   "execution_count": 37,
   "metadata": {},
   "outputs": [
    {
     "name": "stdout",
     "output_type": "stream",
     "text": [
      "[146  53  73  77  61 116  77  41  73  36]\n"
     ]
    }
   ],
   "source": [
    "# Multiplicação de matrizes (com outra notação)\n",
    "print(a @ b)"
   ]
  },
  {
   "cell_type": "code",
   "execution_count": 38,
   "metadata": {},
   "outputs": [
    {
     "name": "stdout",
     "output_type": "stream",
     "text": [
      "[0 2 7 2 9]\n",
      "[1 4 2 5 7]\n"
     ]
    }
   ],
   "source": [
    "a = np.random.randint(10, size=(5))\n",
    "b = np.random.randint(10, size=(5))\n",
    "\n",
    "print(a)\n",
    "print(b)"
   ]
  },
  {
   "cell_type": "code",
   "execution_count": 39,
   "metadata": {},
   "outputs": [
    {
     "data": {
      "text/plain": [
       "95"
      ]
     },
     "execution_count": 39,
     "metadata": {},
     "output_type": "execute_result"
    }
   ],
   "source": [
    "np.dot(a, b) # produto escalar"
   ]
  },
  {
   "cell_type": "code",
   "execution_count": 40,
   "metadata": {},
   "outputs": [
    {
     "data": {
      "text/plain": [
       "array([2., 3.])"
      ]
     },
     "execution_count": 40,
     "metadata": {},
     "output_type": "execute_result"
    }
   ],
   "source": [
    "# Sistema linear \n",
    "a = np.array([[3,1], [1,2]])\n",
    "b = np.array([9,8])\n",
    "np.linalg.solve(a, b)"
   ]
  },
  {
   "cell_type": "markdown",
   "metadata": {},
   "source": [
    "### <span id=\"funcoes\">Funções importantes</span>"
   ]
  },
  {
   "cell_type": "code",
   "execution_count": 41,
   "metadata": {},
   "outputs": [
    {
     "name": "stdout",
     "output_type": "stream",
     "text": [
      "[[2 1 9 8]\n",
      " [0 7 7 0]\n",
      " [0 2 0 7]\n",
      " [6 6 4 5]\n",
      " [0 6 6 6]\n",
      " [0 2 2 7]\n",
      " [4 3 8 4]\n",
      " [9 9 4 8]]\n"
     ]
    }
   ],
   "source": [
    "a = np.random.randint(10, size=(8,4))\n",
    "print(a)"
   ]
  },
  {
   "cell_type": "markdown",
   "metadata": {},
   "source": [
    "#### <span id=\"sum\"> Sum <span>"
   ]
  },
  {
   "cell_type": "code",
   "execution_count": 42,
   "metadata": {},
   "outputs": [
    {
     "data": {
      "text/plain": [
       "142"
      ]
     },
     "execution_count": 42,
     "metadata": {},
     "output_type": "execute_result"
    }
   ],
   "source": [
    "# Soma todos os valores de a\n",
    "np.sum(a)"
   ]
  },
  {
   "cell_type": "code",
   "execution_count": 43,
   "metadata": {},
   "outputs": [
    {
     "name": "stdout",
     "output_type": "stream",
     "text": [
      "[21 36 40 45]\n",
      "[20 14  9 21 18 11 19 30]\n"
     ]
    }
   ],
   "source": [
    "# Soma todos os valores de a em cada um dos eixos\n",
    "print(np.sum(a, axis = 0))\n",
    "print(np.sum(a, axis = 1))"
   ]
  },
  {
   "cell_type": "markdown",
   "metadata": {},
   "source": [
    "Essas operações sobre eixos são **muito importantes** (Por causa da representação matricial dos dados)"
   ]
  },
  {
   "cell_type": "markdown",
   "metadata": {},
   "source": [
    "#### <span id=\"reshape\"> Reshape </span>"
   ]
  },
  {
   "cell_type": "code",
   "execution_count": 44,
   "metadata": {},
   "outputs": [
    {
     "name": "stdout",
     "output_type": "stream",
     "text": [
      "(8, 4)\n",
      "(16, 2)\n"
     ]
    }
   ],
   "source": [
    "print(a.shape)\n",
    "b = a.reshape(16,2) # Importante: Isso retorna o objeto com o novo formato, não é inplace\n",
    "print(b.shape)"
   ]
  },
  {
   "cell_type": "code",
   "execution_count": 45,
   "metadata": {},
   "outputs": [
    {
     "name": "stdout",
     "output_type": "stream",
     "text": [
      "[[2 1 9 8]\n",
      " [0 7 7 0]\n",
      " [0 2 0 7]\n",
      " [6 6 4 5]\n",
      " [0 6 6 6]\n",
      " [0 2 2 7]\n",
      " [4 3 8 4]\n",
      " [9 9 4 8]]\n",
      "[[2 1 9 8 0 7 7 0 0 2 0 7 6 6 4 5]\n",
      " [0 6 6 6 0 2 2 7 4 3 8 4 9 9 4 8]]\n"
     ]
    }
   ],
   "source": [
    "print(a)\n",
    "b = a.reshape(-1,16) # Colacando -1 ele deixa do tamanho necessário para fazer sentido\n",
    "print(b)"
   ]
  },
  {
   "cell_type": "markdown",
   "metadata": {},
   "source": [
    "**EXERCÍCIO:** Como criar essa matriz em uma linha no numpy, sem for, usando só as funções passadas até então?"
   ]
  },
  {
   "cell_type": "code",
   "execution_count": 46,
   "metadata": {},
   "outputs": [
    {
     "name": "stdout",
     "output_type": "stream",
     "text": [
      "[[1 4 7]\n",
      " [2 5 8]\n",
      " [3 6 9]]\n"
     ]
    }
   ],
   "source": [
    "# Output desejado\n",
    "print(np.array([[1, 4, 7], [2, 5, 8], [3, 6, 9]]))"
   ]
  },
  {
   "cell_type": "code",
   "execution_count": 49,
   "metadata": {},
   "outputs": [
    {
     "data": {
      "text/plain": [
       "array([[1, 4, 7],\n",
       "       [2, 5, 8],\n",
       "       [3, 6, 9]])"
      ]
     },
     "execution_count": 49,
     "metadata": {},
     "output_type": "execute_result"
    }
   ],
   "source": [
    "# Código aqui\n",
    "np.arange(1,10).reshape(3,3).T"
   ]
  },
  {
   "cell_type": "markdown",
   "metadata": {},
   "source": [
    "**EXERCÍCIO:** Supondo a base de dados com 5000 imagens RGB de 1280x720, como eu transformo essa base para que cada imagem seja só um vetor de uma dimensão?"
   ]
  },
  {
   "cell_type": "code",
   "execution_count": 50,
   "metadata": {},
   "outputs": [
    {
     "ename": "MemoryError",
     "evalue": "",
     "output_type": "error",
     "traceback": [
      "\u001b[0;31m---------------------------------------------------------------------------\u001b[0m",
      "\u001b[0;31mMemoryError\u001b[0m                               Traceback (most recent call last)",
      "\u001b[0;32m<ipython-input-50-a4d6b861bc13>\u001b[0m in \u001b[0;36m<module>\u001b[0;34m()\u001b[0m\n\u001b[1;32m      1\u001b[0m \u001b[0mSIZE\u001b[0m \u001b[0;34m=\u001b[0m \u001b[0;34m(\u001b[0m\u001b[0;36m5000\u001b[0m\u001b[0;34m,\u001b[0m\u001b[0;36m1280\u001b[0m\u001b[0;34m,\u001b[0m\u001b[0;36m720\u001b[0m\u001b[0;34m,\u001b[0m\u001b[0;36m3\u001b[0m\u001b[0;34m)\u001b[0m \u001b[0;31m# Coloque aqui a tupla com as dimençoes iniciais da base\u001b[0m\u001b[0;34m\u001b[0m\u001b[0m\n\u001b[0;32m----> 2\u001b[0;31m \u001b[0mimagens\u001b[0m \u001b[0;34m=\u001b[0m \u001b[0mnp\u001b[0m\u001b[0;34m.\u001b[0m\u001b[0mrandom\u001b[0m\u001b[0;34m.\u001b[0m\u001b[0mrandint\u001b[0m\u001b[0;34m(\u001b[0m\u001b[0;36m255\u001b[0m\u001b[0;34m,\u001b[0m \u001b[0msize\u001b[0m\u001b[0;34m=\u001b[0m\u001b[0mSIZE\u001b[0m\u001b[0;34m)\u001b[0m\u001b[0;34m\u001b[0m\u001b[0m\n\u001b[0m\u001b[1;32m      3\u001b[0m \u001b[0mimagens\u001b[0m\u001b[0;34m.\u001b[0m\u001b[0mreshape\u001b[0m\u001b[0;34m(\u001b[0m\u001b[0mimagens\u001b[0m\u001b[0;34m.\u001b[0m\u001b[0mshape\u001b[0m\u001b[0;34m[\u001b[0m\u001b[0;36m0\u001b[0m\u001b[0;34m]\u001b[0m\u001b[0;34m,\u001b[0m\u001b[0;34m-\u001b[0m\u001b[0;36m1\u001b[0m\u001b[0;34m)\u001b[0m\u001b[0;34m\u001b[0m\u001b[0m\n\u001b[1;32m      4\u001b[0m \u001b[0;31m# ...\u001b[0m\u001b[0;34m\u001b[0m\u001b[0;34m\u001b[0m\u001b[0m\n",
      "\u001b[0;32mmtrand.pyx\u001b[0m in \u001b[0;36mmtrand.RandomState.randint\u001b[0;34m()\u001b[0m\n",
      "\u001b[0;32mmtrand.pyx\u001b[0m in \u001b[0;36mmtrand.RandomState.randint\u001b[0;34m()\u001b[0m\n",
      "\u001b[0;32mrandint_helpers.pxi\u001b[0m in \u001b[0;36mmtrand._rand_int64\u001b[0;34m()\u001b[0m\n",
      "\u001b[0;31mMemoryError\u001b[0m: "
     ]
    }
   ],
   "source": [
    "SIZE = (5000,1280,720,3) # Coloque aqui a tupla com as dimençoes iniciais da base\n",
    "imagens = np.random.randint(255, size=SIZE)\n",
    "imagens.reshape(imagens.shape[0],-1)\n",
    "# ..."
   ]
  },
  {
   "cell_type": "markdown",
   "metadata": {},
   "source": [
    "#### <span id=\"argmax\"> Argmax </span>"
   ]
  },
  {
   "cell_type": "code",
   "execution_count": 51,
   "metadata": {},
   "outputs": [
    {
     "name": "stdout",
     "output_type": "stream",
     "text": [
      "[ 1 19 10 34 11 37 19 46 39 15 46 12]\n"
     ]
    }
   ],
   "source": [
    "a = np.random.randint(50, size=(12,))\n",
    "print(a)"
   ]
  },
  {
   "cell_type": "code",
   "execution_count": 52,
   "metadata": {},
   "outputs": [
    {
     "name": "stdout",
     "output_type": "stream",
     "text": [
      "7\n",
      "46\n"
     ]
    }
   ],
   "source": [
    "print(np.argmax(a)) # Retorna o indice do maior elemento\n",
    "print(a[np.argmax(a)]) # Para pegar o valor do maior elemento"
   ]
  },
  {
   "cell_type": "markdown",
   "metadata": {},
   "source": [
    "#### <span id=\"arange\"> Arange </span>"
   ]
  },
  {
   "cell_type": "code",
   "execution_count": 53,
   "metadata": {},
   "outputs": [
    {
     "name": "stdout",
     "output_type": "stream",
     "text": [
      "[   0  150  300  450  600  750  900 1050 1200 1350]\n"
     ]
    }
   ],
   "source": [
    "exemplo = np.arange(0, 1500, 150) # Gera números entre dois valores com um passo determinado\n",
    "print(exemplo)"
   ]
  },
  {
   "cell_type": "markdown",
   "metadata": {},
   "source": [
    "**EXERCÍCIO:** Crie uma matriz aleatória e pegue o indice do maior elemento para cada linha e depois para cada coluna"
   ]
  },
  {
   "cell_type": "markdown",
   "metadata": {},
   "source": [
    "## <span id=\"velocidade\"> Teste de velocidade </span>"
   ]
  },
  {
   "cell_type": "markdown",
   "metadata": {},
   "source": [
    "![Speed](https://media1.tenor.com/images/cea1d72266eec94333e2897f8ee86bf1/tenor.gif?itemid=5593970 \"speed\")"
   ]
  },
  {
   "cell_type": "markdown",
   "metadata": {},
   "source": [
    "### <span id=\"mult\"> Multiplicação por constante </span>"
   ]
  },
  {
   "cell_type": "code",
   "execution_count": 54,
   "metadata": {},
   "outputs": [],
   "source": [
    "a = [[j for j in range(10000)] for _ in range(1000)]\n",
    "b = np.array(a)"
   ]
  },
  {
   "cell_type": "code",
   "execution_count": 55,
   "metadata": {
    "scrolled": true
   },
   "outputs": [
    {
     "name": "stdout",
     "output_type": "stream",
     "text": [
      "CPU times: user 1.66 s, sys: 1.36 ms, total: 1.66 s\n",
      "Wall time: 1.66 s\n"
     ]
    }
   ],
   "source": [
    "%%time\n",
    "for i in range(len(a)):\n",
    "    for j in range(len(a[0])):\n",
    "        a[i][j] *= 10"
   ]
  },
  {
   "cell_type": "code",
   "execution_count": 56,
   "metadata": {
    "scrolled": true
   },
   "outputs": [
    {
     "name": "stdout",
     "output_type": "stream",
     "text": [
      "CPU times: user 10.4 ms, sys: 3.87 ms, total: 14.3 ms\n",
      "Wall time: 14.6 ms\n"
     ]
    }
   ],
   "source": [
    "%%time\n",
    "b *= 10"
   ]
  },
  {
   "cell_type": "markdown",
   "metadata": {},
   "source": [
    "### <span id=\"sumlines\"> Soma por linha</span>"
   ]
  },
  {
   "cell_type": "code",
   "execution_count": 59,
   "metadata": {},
   "outputs": [
    {
     "name": "stdout",
     "output_type": "stream",
     "text": [
      "CPU times: user 1.6 s, sys: 0 ns, total: 1.6 s\n",
      "Wall time: 1.6 s\n"
     ]
    }
   ],
   "source": [
    "%%time\n",
    "sums = []\n",
    "for i in range(len(a)):\n",
    "    part_sum = 0\n",
    "    for j in range(len(a[0])):\n",
    "        part_sum += a[i][j]\n",
    "    sums.append(part_sum)"
   ]
  },
  {
   "cell_type": "code",
   "execution_count": 60,
   "metadata": {
    "scrolled": true
   },
   "outputs": [
    {
     "name": "stdout",
     "output_type": "stream",
     "text": [
      "CPU times: user 10.2 ms, sys: 706 µs, total: 10.9 ms\n",
      "Wall time: 10.2 ms\n"
     ]
    },
    {
     "data": {
      "text/plain": [
       "(1000,)"
      ]
     },
     "execution_count": 60,
     "metadata": {},
     "output_type": "execute_result"
    }
   ],
   "source": [
    "%%time\n",
    "b.sum(axis=1).shape"
   ]
  },
  {
   "cell_type": "markdown",
   "metadata": {},
   "source": [
    "### <span id=\"vargmax\"> Argmax </span>"
   ]
  },
  {
   "cell_type": "code",
   "execution_count": 61,
   "metadata": {},
   "outputs": [],
   "source": [
    "a = [i for i in range(10000000)]\n",
    "b = np.array(a)"
   ]
  },
  {
   "cell_type": "code",
   "execution_count": 62,
   "metadata": {},
   "outputs": [
    {
     "name": "stdout",
     "output_type": "stream",
     "text": [
      "CPU times: user 1.64 s, sys: 0 ns, total: 1.64 s\n",
      "Wall time: 1.64 s\n"
     ]
    }
   ],
   "source": [
    "%%time\n",
    "idx = 0\n",
    "for i in range(len(a)):\n",
    "    if a[i] > a[idx]:\n",
    "        idx = i"
   ]
  },
  {
   "cell_type": "code",
   "execution_count": 63,
   "metadata": {
    "scrolled": true
   },
   "outputs": [
    {
     "name": "stdout",
     "output_type": "stream",
     "text": [
      "CPU times: user 19.2 ms, sys: 0 ns, total: 19.2 ms\n",
      "Wall time: 18.9 ms\n"
     ]
    },
    {
     "data": {
      "text/plain": [
       "9999999"
      ]
     },
     "execution_count": 63,
     "metadata": {},
     "output_type": "execute_result"
    }
   ],
   "source": [
    "%%time\n",
    "np.argmax(b);"
   ]
  },
  {
   "cell_type": "code",
   "execution_count": null,
   "metadata": {},
   "outputs": [],
   "source": []
  }
 ],
 "metadata": {
  "kernelspec": {
   "display_name": "Python 3",
   "language": "python",
   "name": "python3"
  },
  "language_info": {
   "codemirror_mode": {
    "name": "ipython",
    "version": 3
   },
   "file_extension": ".py",
   "mimetype": "text/x-python",
   "name": "python",
   "nbconvert_exporter": "python",
   "pygments_lexer": "ipython3",
   "version": "3.6.5"
  }
 },
 "nbformat": 4,
 "nbformat_minor": 2
}
