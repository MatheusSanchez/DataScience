{
 "cells": [
  {
   "cell_type": "markdown",
   "metadata": {},
   "source": [
    "# EXERCÍCIOS NO FIM DO NOTEBOOK!!"
   ]
  },
  {
   "cell_type": "code",
   "execution_count": null,
   "metadata": {},
   "outputs": [],
   "source": []
  },
  {
   "cell_type": "markdown",
   "metadata": {
    "colab_type": "text",
    "id": "MxppnYXfVVLJ"
   },
   "source": [
    "# Carregando os dados\n",
    "\n",
    "Usaremos o data set do Iris para fazer nossas predições"
   ]
  },
  {
   "cell_type": "code",
   "execution_count": 0,
   "metadata": {
    "colab": {},
    "colab_type": "code",
    "id": "tHQ_1gDyVVLK"
   },
   "outputs": [],
   "source": [
    "iris = []\n",
    "\n",
    "with open('iris.csv', 'r') as f:\n",
    "    for line in f:\n",
    "        if line.replace(\"\\n\", \"\"):\n",
    "            iris.append(line.replace('\\n', '').split(','))\n",
    "\n",
    "iris"
   ]
  },
  {
   "cell_type": "markdown",
   "metadata": {
    "colab_type": "text",
    "id": "2OlXgOqlVVLO"
   },
   "source": [
    "# Separando em features e labels"
   ]
  },
  {
   "cell_type": "code",
   "execution_count": 0,
   "metadata": {
    "colab": {},
    "colab_type": "code",
    "id": "EhqTBdEvVVLP"
   },
   "outputs": [],
   "source": [
    "data = []\n",
    "label = []\n",
    "\n",
    "for line in iris:\n",
    "    data.append([float(x) for x in line[:-1]])\n",
    "    label.append(line[-1])\n",
    "\n",
    "label"
   ]
  },
  {
   "cell_type": "markdown",
   "metadata": {
    "colab_type": "text",
    "id": "kpqcLBoCVVLS"
   },
   "source": [
    "# Transformando em Numpy "
   ]
  },
  {
   "cell_type": "code",
   "execution_count": 0,
   "metadata": {
    "colab": {},
    "colab_type": "code",
    "id": "fQhA1EKCVVLS"
   },
   "outputs": [],
   "source": [
    "import numpy as np"
   ]
  },
  {
   "cell_type": "code",
   "execution_count": 0,
   "metadata": {
    "colab": {
     "base_uri": "https://localhost:8080/",
     "height": 2567
    },
    "colab_type": "code",
    "id": "DXgk-OjsVVLU",
    "outputId": "81d36b5d-3f2e-42c7-a35d-0de46305751e"
   },
   "outputs": [
    {
     "data": {
      "text/plain": [
       "[[5.1, 3.5, 1.4, 0.2],\n",
       " [4.9, 3.0, 1.4, 0.2],\n",
       " [4.7, 3.2, 1.3, 0.2],\n",
       " [4.6, 3.1, 1.5, 0.2],\n",
       " [5.0, 3.6, 1.4, 0.2],\n",
       " [5.4, 3.9, 1.7, 0.4],\n",
       " [4.6, 3.4, 1.4, 0.3],\n",
       " [5.0, 3.4, 1.5, 0.2],\n",
       " [4.4, 2.9, 1.4, 0.2],\n",
       " [4.9, 3.1, 1.5, 0.1],\n",
       " [5.4, 3.7, 1.5, 0.2],\n",
       " [4.8, 3.4, 1.6, 0.2],\n",
       " [4.8, 3.0, 1.4, 0.1],\n",
       " [4.3, 3.0, 1.1, 0.1],\n",
       " [5.8, 4.0, 1.2, 0.2],\n",
       " [5.7, 4.4, 1.5, 0.4],\n",
       " [5.4, 3.9, 1.3, 0.4],\n",
       " [5.1, 3.5, 1.4, 0.3],\n",
       " [5.7, 3.8, 1.7, 0.3],\n",
       " [5.1, 3.8, 1.5, 0.3],\n",
       " [5.4, 3.4, 1.7, 0.2],\n",
       " [5.1, 3.7, 1.5, 0.4],\n",
       " [4.6, 3.6, 1.0, 0.2],\n",
       " [5.1, 3.3, 1.7, 0.5],\n",
       " [4.8, 3.4, 1.9, 0.2],\n",
       " [5.0, 3.0, 1.6, 0.2],\n",
       " [5.0, 3.4, 1.6, 0.4],\n",
       " [5.2, 3.5, 1.5, 0.2],\n",
       " [5.2, 3.4, 1.4, 0.2],\n",
       " [4.7, 3.2, 1.6, 0.2],\n",
       " [4.8, 3.1, 1.6, 0.2],\n",
       " [5.4, 3.4, 1.5, 0.4],\n",
       " [5.2, 4.1, 1.5, 0.1],\n",
       " [5.5, 4.2, 1.4, 0.2],\n",
       " [4.9, 3.1, 1.5, 0.1],\n",
       " [5.0, 3.2, 1.2, 0.2],\n",
       " [5.5, 3.5, 1.3, 0.2],\n",
       " [4.9, 3.1, 1.5, 0.1],\n",
       " [4.4, 3.0, 1.3, 0.2],\n",
       " [5.1, 3.4, 1.5, 0.2],\n",
       " [5.0, 3.5, 1.3, 0.3],\n",
       " [4.5, 2.3, 1.3, 0.3],\n",
       " [4.4, 3.2, 1.3, 0.2],\n",
       " [5.0, 3.5, 1.6, 0.6],\n",
       " [5.1, 3.8, 1.9, 0.4],\n",
       " [4.8, 3.0, 1.4, 0.3],\n",
       " [5.1, 3.8, 1.6, 0.2],\n",
       " [4.6, 3.2, 1.4, 0.2],\n",
       " [5.3, 3.7, 1.5, 0.2],\n",
       " [5.0, 3.3, 1.4, 0.2],\n",
       " [7.0, 3.2, 4.7, 1.4],\n",
       " [6.4, 3.2, 4.5, 1.5],\n",
       " [6.9, 3.1, 4.9, 1.5],\n",
       " [5.5, 2.3, 4.0, 1.3],\n",
       " [6.5, 2.8, 4.6, 1.5],\n",
       " [5.7, 2.8, 4.5, 1.3],\n",
       " [6.3, 3.3, 4.7, 1.6],\n",
       " [4.9, 2.4, 3.3, 1.0],\n",
       " [6.6, 2.9, 4.6, 1.3],\n",
       " [5.2, 2.7, 3.9, 1.4],\n",
       " [5.0, 2.0, 3.5, 1.0],\n",
       " [5.9, 3.0, 4.2, 1.5],\n",
       " [6.0, 2.2, 4.0, 1.0],\n",
       " [6.1, 2.9, 4.7, 1.4],\n",
       " [5.6, 2.9, 3.6, 1.3],\n",
       " [6.7, 3.1, 4.4, 1.4],\n",
       " [5.6, 3.0, 4.5, 1.5],\n",
       " [5.8, 2.7, 4.1, 1.0],\n",
       " [6.2, 2.2, 4.5, 1.5],\n",
       " [5.6, 2.5, 3.9, 1.1],\n",
       " [5.9, 3.2, 4.8, 1.8],\n",
       " [6.1, 2.8, 4.0, 1.3],\n",
       " [6.3, 2.5, 4.9, 1.5],\n",
       " [6.1, 2.8, 4.7, 1.2],\n",
       " [6.4, 2.9, 4.3, 1.3],\n",
       " [6.6, 3.0, 4.4, 1.4],\n",
       " [6.8, 2.8, 4.8, 1.4],\n",
       " [6.7, 3.0, 5.0, 1.7],\n",
       " [6.0, 2.9, 4.5, 1.5],\n",
       " [5.7, 2.6, 3.5, 1.0],\n",
       " [5.5, 2.4, 3.8, 1.1],\n",
       " [5.5, 2.4, 3.7, 1.0],\n",
       " [5.8, 2.7, 3.9, 1.2],\n",
       " [6.0, 2.7, 5.1, 1.6],\n",
       " [5.4, 3.0, 4.5, 1.5],\n",
       " [6.0, 3.4, 4.5, 1.6],\n",
       " [6.7, 3.1, 4.7, 1.5],\n",
       " [6.3, 2.3, 4.4, 1.3],\n",
       " [5.6, 3.0, 4.1, 1.3],\n",
       " [5.5, 2.5, 4.0, 1.3],\n",
       " [5.5, 2.6, 4.4, 1.2],\n",
       " [6.1, 3.0, 4.6, 1.4],\n",
       " [5.8, 2.6, 4.0, 1.2],\n",
       " [5.0, 2.3, 3.3, 1.0],\n",
       " [5.6, 2.7, 4.2, 1.3],\n",
       " [5.7, 3.0, 4.2, 1.2],\n",
       " [5.7, 2.9, 4.2, 1.3],\n",
       " [6.2, 2.9, 4.3, 1.3],\n",
       " [5.1, 2.5, 3.0, 1.1],\n",
       " [5.7, 2.8, 4.1, 1.3],\n",
       " [6.3, 3.3, 6.0, 2.5],\n",
       " [5.8, 2.7, 5.1, 1.9],\n",
       " [7.1, 3.0, 5.9, 2.1],\n",
       " [6.3, 2.9, 5.6, 1.8],\n",
       " [6.5, 3.0, 5.8, 2.2],\n",
       " [7.6, 3.0, 6.6, 2.1],\n",
       " [4.9, 2.5, 4.5, 1.7],\n",
       " [7.3, 2.9, 6.3, 1.8],\n",
       " [6.7, 2.5, 5.8, 1.8],\n",
       " [7.2, 3.6, 6.1, 2.5],\n",
       " [6.5, 3.2, 5.1, 2.0],\n",
       " [6.4, 2.7, 5.3, 1.9],\n",
       " [6.8, 3.0, 5.5, 2.1],\n",
       " [5.7, 2.5, 5.0, 2.0],\n",
       " [5.8, 2.8, 5.1, 2.4],\n",
       " [6.4, 3.2, 5.3, 2.3],\n",
       " [6.5, 3.0, 5.5, 1.8],\n",
       " [7.7, 3.8, 6.7, 2.2],\n",
       " [7.7, 2.6, 6.9, 2.3],\n",
       " [6.0, 2.2, 5.0, 1.5],\n",
       " [6.9, 3.2, 5.7, 2.3],\n",
       " [5.6, 2.8, 4.9, 2.0],\n",
       " [7.7, 2.8, 6.7, 2.0],\n",
       " [6.3, 2.7, 4.9, 1.8],\n",
       " [6.7, 3.3, 5.7, 2.1],\n",
       " [7.2, 3.2, 6.0, 1.8],\n",
       " [6.2, 2.8, 4.8, 1.8],\n",
       " [6.1, 3.0, 4.9, 1.8],\n",
       " [6.4, 2.8, 5.6, 2.1],\n",
       " [7.2, 3.0, 5.8, 1.6],\n",
       " [7.4, 2.8, 6.1, 1.9],\n",
       " [7.9, 3.8, 6.4, 2.0],\n",
       " [6.4, 2.8, 5.6, 2.2],\n",
       " [6.3, 2.8, 5.1, 1.5],\n",
       " [6.1, 2.6, 5.6, 1.4],\n",
       " [7.7, 3.0, 6.1, 2.3],\n",
       " [6.3, 3.4, 5.6, 2.4],\n",
       " [6.4, 3.1, 5.5, 1.8],\n",
       " [6.0, 3.0, 4.8, 1.8],\n",
       " [6.9, 3.1, 5.4, 2.1],\n",
       " [6.7, 3.1, 5.6, 2.4],\n",
       " [6.9, 3.1, 5.1, 2.3],\n",
       " [5.8, 2.7, 5.1, 1.9],\n",
       " [6.8, 3.2, 5.9, 2.3],\n",
       " [6.7, 3.3, 5.7, 2.5],\n",
       " [6.7, 3.0, 5.2, 2.3],\n",
       " [6.3, 2.5, 5.0, 1.9],\n",
       " [6.5, 3.0, 5.2, 2.0],\n",
       " [6.2, 3.4, 5.4, 2.3],\n",
       " [5.9, 3.0, 5.1, 1.8]]"
      ]
     },
     "execution_count": 4,
     "metadata": {
      "tags": []
     },
     "output_type": "execute_result"
    }
   ],
   "source": [
    "data"
   ]
  },
  {
   "cell_type": "code",
   "execution_count": 0,
   "metadata": {
    "colab": {},
    "colab_type": "code",
    "id": "jCNzEviOVVLY"
   },
   "outputs": [],
   "source": [
    "data = np.array(data)"
   ]
  },
  {
   "cell_type": "code",
   "execution_count": 0,
   "metadata": {
    "colab": {},
    "colab_type": "code",
    "id": "kRd5FvoEVVLa"
   },
   "outputs": [],
   "source": [
    "label = np.array(label)"
   ]
  },
  {
   "cell_type": "code",
   "execution_count": 0,
   "metadata": {
    "colab": {},
    "colab_type": "code",
    "id": "h4cesWMGVVLd"
   },
   "outputs": [],
   "source": [
    "query = np.array([5, 2.8, 1.8, 2])"
   ]
  },
  {
   "cell_type": "markdown",
   "metadata": {
    "colab_type": "text",
    "id": "shEOTspZVVLf"
   },
   "source": [
    "# Calculando a distância entre a query e todos os outros pontos"
   ]
  },
  {
   "cell_type": "code",
   "execution_count": 0,
   "metadata": {
    "colab": {},
    "colab_type": "code",
    "id": "q_39ivnRVVLg"
   },
   "outputs": [],
   "source": [
    "# Função de distância euclidiana\n",
    "\n",
    "from math import sqrt\n",
    "\n",
    "def eucli(a, b):\n",
    "    return sqrt(sum((a - b) ** 2))"
   ]
  },
  {
   "cell_type": "code",
   "execution_count": 0,
   "metadata": {
    "colab": {},
    "colab_type": "code",
    "id": "l0HQVBaIVVLj"
   },
   "outputs": [],
   "source": [
    "dists = np.array([eucli(point, query) for point in data])"
   ]
  },
  {
   "cell_type": "code",
   "execution_count": 0,
   "metadata": {
    "colab": {
     "base_uri": "https://localhost:8080/",
     "height": 527
    },
    "colab_type": "code",
    "id": "k09lPzWNVVLn",
    "outputId": "b9ada6b7-e196-4a07-801c-be51dbcebbb3"
   },
   "outputs": [
    {
     "data": {
      "text/plain": [
       "array([1.97484177, 1.85741756, 1.93390796, 1.89208879, 2.00997512,\n",
       "       1.98494332, 1.88944436, 1.92093727, 1.94164878, 1.94935887,\n",
       "       2.07364414, 1.91833261, 1.96214169, 2.15174348, 2.38327506,\n",
       "       2.38746728, 2.04450483, 1.88414437, 2.09523268, 1.99749844,\n",
       "       1.94164878, 1.8627936 , 2.16333077, 1.58745079, 1.91049732,\n",
       "       1.82208672, 1.72046505, 1.96468827, 1.94935887, 1.87882942,\n",
       "       1.84661853, 1.78044938, 2.33023604, 2.36854386, 1.94935887,\n",
       "       1.93907194, 2.05669638, 1.94935887, 1.97230829, 1.92353841,\n",
       "       1.90525589, 1.9078784 , 2.00249844, 1.57797338, 1.89208879,\n",
       "       1.7691806 , 2.07123152, 1.92873015, 2.05669638, 1.91049732,\n",
       "       3.59583092, 3.10805405, 3.68239053, 2.41453929, 3.21558704,\n",
       "       2.87576077, 3.24191302, 1.8493242 , 3.3015148 , 2.19544984,\n",
       "       2.12837967, 2.61916017, 2.68328157, 3.16069613, 2.02484567,\n",
       "       3.17804972, 2.81780056, 2.63438797, 3.05614136, 2.38117618,\n",
       "       3.1638584 , 2.55734237, 3.41174442, 3.20312348, 2.95127091,\n",
       "       3.11769145, 3.54964787, 3.64142829, 2.9240383 , 2.1023796 ,\n",
       "       2.28473193, 2.24053565, 2.38746728, 3.47275107, 2.78208555,\n",
       "       2.96816442, 3.41174442, 3.03150128, 2.48596058, 2.38117618,\n",
       "       2.77308492, 3.07408523, 2.48193473, 1.87082869, 2.57293607,\n",
       "       2.63248932, 2.59807621, 2.8618176 , 1.53297097, 2.50399681,\n",
       "       4.45308882, 3.39852909, 4.61194102, 4.02243707, 4.28135493,\n",
       "       5.46351535, 2.73495887, 5.05865595, 4.3611925 , 4.92138192,\n",
       "       3.64691651, 3.77226722, 4.12067956, 3.28937684, 3.4190642 ,\n",
       "       3.80263067, 4.00249922, 5.68682688, 5.78186821, 3.4423829 ,\n",
       "       4.36692111, 3.15753068, 5.59464029, 3.36897611, 4.28485706,\n",
       "       4.76235236, 3.23728281, 3.3015148 , 4.05092582, 4.58693798,\n",
       "       4.92544414, 5.52901438, 4.05462699, 3.58189894, 4.00624512,\n",
       "       5.09018664, 4.08044115, 3.97240481, 3.17490157, 4.08289113,\n",
       "       4.19285106, 3.83144881, 3.39852909, 4.50555213, 4.31277173,\n",
       "       3.81837662, 3.46842904, 3.72155881, 3.85356977, 3.43220046])"
      ]
     },
     "execution_count": 10,
     "metadata": {
      "tags": []
     },
     "output_type": "execute_result"
    }
   ],
   "source": [
    "dists"
   ]
  },
  {
   "cell_type": "code",
   "execution_count": 0,
   "metadata": {
    "colab": {
     "base_uri": "https://localhost:8080/",
     "height": 527
    },
    "colab_type": "code",
    "id": "DM25-lDXVVLq",
    "outputId": "309a4f2b-18a1-4938-ef33-22a28d679c31"
   },
   "outputs": [
    {
     "data": {
      "text/plain": [
       "array([1.97484177, 1.85741756, 1.93390796, 1.89208879, 2.00997512,\n",
       "       1.98494332, 1.88944436, 1.92093727, 1.94164878, 1.94935887,\n",
       "       2.07364414, 1.91833261, 1.96214169, 2.15174348, 2.38327506,\n",
       "       2.38746728, 2.04450483, 1.88414437, 2.09523268, 1.99749844,\n",
       "       1.94164878, 1.8627936 , 2.16333077, 1.58745079, 1.91049732,\n",
       "       1.82208672, 1.72046505, 1.96468827, 1.94935887, 1.87882942,\n",
       "       1.84661853, 1.78044938, 2.33023604, 2.36854386, 1.94935887,\n",
       "       1.93907194, 2.05669638, 1.94935887, 1.97230829, 1.92353841,\n",
       "       1.90525589, 1.9078784 , 2.00249844, 1.57797338, 1.89208879,\n",
       "       1.7691806 , 2.07123152, 1.92873015, 2.05669638, 1.91049732,\n",
       "       3.59583092, 3.10805405, 3.68239053, 2.41453929, 3.21558704,\n",
       "       2.87576077, 3.24191302, 1.8493242 , 3.3015148 , 2.19544984,\n",
       "       2.12837967, 2.61916017, 2.68328157, 3.16069613, 2.02484567,\n",
       "       3.17804972, 2.81780056, 2.63438797, 3.05614136, 2.38117618,\n",
       "       3.1638584 , 2.55734237, 3.41174442, 3.20312348, 2.95127091,\n",
       "       3.11769145, 3.54964787, 3.64142829, 2.9240383 , 2.1023796 ,\n",
       "       2.28473193, 2.24053565, 2.38746728, 3.47275107, 2.78208555,\n",
       "       2.96816442, 3.41174442, 3.03150128, 2.48596058, 2.38117618,\n",
       "       2.77308492, 3.07408523, 2.48193473, 1.87082869, 2.57293607,\n",
       "       2.63248932, 2.59807621, 2.8618176 , 1.53297097, 2.50399681,\n",
       "       4.45308882, 3.39852909, 4.61194102, 4.02243707, 4.28135493,\n",
       "       5.46351535, 2.73495887, 5.05865595, 4.3611925 , 4.92138192,\n",
       "       3.64691651, 3.77226722, 4.12067956, 3.28937684, 3.4190642 ,\n",
       "       3.80263067, 4.00249922, 5.68682688, 5.78186821, 3.4423829 ,\n",
       "       4.36692111, 3.15753068, 5.59464029, 3.36897611, 4.28485706,\n",
       "       4.76235236, 3.23728281, 3.3015148 , 4.05092582, 4.58693798,\n",
       "       4.92544414, 5.52901438, 4.05462699, 3.58189894, 4.00624512,\n",
       "       5.09018664, 4.08044115, 3.97240481, 3.17490157, 4.08289113,\n",
       "       4.19285106, 3.83144881, 3.39852909, 4.50555213, 4.31277173,\n",
       "       3.81837662, 3.46842904, 3.72155881, 3.85356977, 3.43220046])"
      ]
     },
     "execution_count": 11,
     "metadata": {
      "tags": []
     },
     "output_type": "execute_result"
    }
   ],
   "source": [
    "np.sum(((data - query) ** 2), axis = 1) ** (1/2)"
   ]
  },
  {
   "cell_type": "markdown",
   "metadata": {
    "colab_type": "text",
    "id": "2Yhc0im2VVLs"
   },
   "source": [
    "# Pontos mais próximos"
   ]
  },
  {
   "cell_type": "code",
   "execution_count": 0,
   "metadata": {
    "colab": {},
    "colab_type": "code",
    "id": "4jGlo-9bVVLt"
   },
   "outputs": [],
   "source": [
    "indx = np.argsort(dists)[:3]"
   ]
  },
  {
   "cell_type": "code",
   "execution_count": 0,
   "metadata": {
    "colab": {
     "base_uri": "https://localhost:8080/",
     "height": 34
    },
    "colab_type": "code",
    "id": "nKW2HllaVVLv",
    "outputId": "42e39a3b-4f0e-4200-fd63-d67239b37d3d"
   },
   "outputs": [
    {
     "data": {
      "text/plain": [
       "array(['Iris-versicolor', 'Iris-setosa', 'Iris-setosa'], dtype='<U15')"
      ]
     },
     "execution_count": 13,
     "metadata": {
      "tags": []
     },
     "output_type": "execute_result"
    }
   ],
   "source": [
    "label[indx]"
   ]
  },
  {
   "cell_type": "markdown",
   "metadata": {
    "colab_type": "text",
    "id": "Kj09unjkVVLy"
   },
   "source": [
    "# Vendo a classe mais próxima"
   ]
  },
  {
   "cell_type": "code",
   "execution_count": 0,
   "metadata": {
    "colab": {},
    "colab_type": "code",
    "id": "MeY-nasUVVLz"
   },
   "outputs": [],
   "source": [
    "from collections import Counter"
   ]
  },
  {
   "cell_type": "code",
   "execution_count": 0,
   "metadata": {
    "colab": {
     "base_uri": "https://localhost:8080/",
     "height": 34
    },
    "colab_type": "code",
    "id": "jqdNk7ABVVL1",
    "outputId": "f7371194-0f71-4067-d28b-f20adb066e84"
   },
   "outputs": [
    {
     "data": {
      "text/plain": [
       "'Iris-setosa'"
      ]
     },
     "execution_count": 15,
     "metadata": {
      "tags": []
     },
     "output_type": "execute_result"
    }
   ],
   "source": [
    "Counter(label[indx]).most_common(1)[0][0]"
   ]
  },
  {
   "cell_type": "markdown",
   "metadata": {
    "colab_type": "text",
    "id": "MTHd9ja-VVL4"
   },
   "source": [
    "# Criando uma função que faz a classificação"
   ]
  },
  {
   "cell_type": "code",
   "execution_count": 0,
   "metadata": {
    "colab": {},
    "colab_type": "code",
    "id": "79rTzC7PVVL6"
   },
   "outputs": [],
   "source": [
    "def knn(data, query, k=3):\n",
    "    dists = np.sum(((data - query) ** 2), axis = 1)\n",
    "    indx = np.argsort(dists)[:k]\n",
    "    return Counter(label[indx]).most_common(1)[0][0]"
   ]
  },
  {
   "cell_type": "code",
   "execution_count": 0,
   "metadata": {
    "colab": {
     "base_uri": "https://localhost:8080/",
     "height": 34
    },
    "colab_type": "code",
    "id": "wy2oCaBkVVL8",
    "outputId": "2f911d13-92af-46c9-f783-f90ef1fe3dfc"
   },
   "outputs": [
    {
     "data": {
      "text/plain": [
       "'Iris-setosa'"
      ]
     },
     "execution_count": 17,
     "metadata": {
      "tags": []
     },
     "output_type": "execute_result"
    }
   ],
   "source": [
    "knn(data, query, k=3)"
   ]
  },
  {
   "cell_type": "markdown",
   "metadata": {
    "colab_type": "text",
    "id": "xk1Rq1V1XR8L"
   },
   "source": [
    "# Sugestões de exercícios para casa!"
   ]
  },
  {
   "cell_type": "markdown",
   "metadata": {
    "colab_type": "text",
    "id": "DV0BeyZFXlUx"
   },
   "source": [
    "## 1)\n",
    "\n",
    " Entenda porque não precisamos da raiz no cálculo da função euclidiana;\n",
    " \n",
    " Implemente uma generalização da distância euclidiana, a [distância minkswoki](https://en.wikipedia.org/wiki/Minkowski_distance).\n",
    " \n",
    " Teste se o resultado muda para valores diferentes de \"p\".\n",
    " \n",
    " DICA: Use o np.inf para verificar se precisamos do máximo/mínimo\n",
    "\n"
   ]
  },
  {
   "cell_type": "code",
   "execution_count": 0,
   "metadata": {
    "colab": {},
    "colab_type": "code",
    "id": "MnTZicKRXnUy"
   },
   "outputs": [],
   "source": [
    "def minkowski_distance(a, b, p=2):\n",
    "    # Code here"
   ]
  },
  {
   "cell_type": "markdown",
   "metadata": {
    "colab_type": "text",
    "id": "24pAxO6XYl1w"
   },
   "source": [
    "## 2) \n",
    "\n",
    "Transforme a nossa função knn para aceitar mais de 1 query (isto é, para testar vários casos de teste).\n",
    "\n",
    "DICA: Faça o máximo modularizado possível! Da uma olhada [aqui](https://github.com/BrunoGomesCoelho/small-bang/blob/master/knn/knn.py#L55) se precisar."
   ]
  },
  {
   "cell_type": "code",
   "execution_count": 0,
   "metadata": {
    "colab": {},
    "colab_type": "code",
    "id": "vsi2BRHQZt-O"
   },
   "outputs": [],
   "source": [
    "def knn_extended(data, queries, k=3):\n",
    "    # Your code here"
   ]
  },
  {
   "cell_type": "markdown",
   "metadata": {
    "colab_type": "text",
    "id": "nlf2Yf52Z8ja"
   },
   "source": [
    "## 3)\n",
    "\n",
    "Implemente a versão ponderada pelo peso para o K-NN. Isto é, em vez de só pegar o voto majoritário, leve em consideração a distância de cada exemplo na hora de fazer a votação.\n",
    "\n",
    "DICA: Se precisar, leia mais sobre [aqui](http://www.data-machine.com/nmtutorial/distanceweightedknnalgorithm.htm) e se precisar se inspire [nesse código](https://github.com/FlonairLenz/weighted-knn/blob/master/knn_algorithm.py)."
   ]
  },
  {
   "cell_type": "code",
   "execution_count": 0,
   "metadata": {
    "colab": {},
    "colab_type": "code",
    "id": "NITQQWjBa9d6"
   },
   "outputs": [],
   "source": [
    "def knn_weighted(data, queries, k=3):\n",
    "    # Your code here"
   ]
  }
 ],
 "metadata": {
  "colab": {
   "name": "Copy of KNN.ipynb",
   "provenance": [],
   "toc_visible": true,
   "version": "0.3.2"
  },
  "kernelspec": {
   "display_name": "Python 3",
   "language": "python",
   "name": "python3"
  },
  "language_info": {
   "codemirror_mode": {
    "name": "ipython",
    "version": 3
   },
   "file_extension": ".py",
   "mimetype": "text/x-python",
   "name": "python",
   "nbconvert_exporter": "python",
   "pygments_lexer": "ipython3",
   "version": "3.6.5rc1"
  },
  "toc": {
   "base_numbering": 1,
   "nav_menu": {},
   "number_sections": true,
   "sideBar": true,
   "skip_h1_title": false,
   "title_cell": "Table of Contents",
   "title_sidebar": "Contents",
   "toc_cell": false,
   "toc_position": {},
   "toc_section_display": true,
   "toc_window_display": false
  }
 },
 "nbformat": 4,
 "nbformat_minor": 1
}
