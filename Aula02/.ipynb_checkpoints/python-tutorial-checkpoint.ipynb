{
 "cells": [
  {
   "cell_type": "markdown",
   "metadata": {},
   "source": [
    "# Tutorial de Python\n",
    "\n",
    "Tutorial de Python 3.6"
   ]
  },
  {
   "cell_type": "markdown",
   "metadata": {},
   "source": [
    "## Tipos de dados\n",
    "\n",
    "Em python você não precisa declarar as variaveis e nem especificar o tipo dela. Uma mesma variável também pode receber dados de tipos diferentes."
   ]
  },
  {
   "cell_type": "code",
   "execution_count": 1,
   "metadata": {},
   "outputs": [
    {
     "name": "stdout",
     "output_type": "stream",
     "text": [
      "5\n",
      "oi\n",
      "3.14\n"
     ]
    }
   ],
   "source": [
    "# Mesma variável recebendo tipos diferentes\n",
    "\n",
    "var = 5\n",
    "print(var)\n",
    "\n",
    "var = \"oi\"\n",
    "print(var)\n",
    "\n",
    "var = 3.14\n",
    "print(var)"
   ]
  },
  {
   "cell_type": "code",
   "execution_count": 2,
   "metadata": {},
   "outputs": [
    {
     "name": "stdout",
     "output_type": "stream",
     "text": [
      "Int -> float 5.0\n",
      "Float -> int 3\n",
      "Int -> str 234\n"
     ]
    }
   ],
   "source": [
    "# transformando de inteiro para float \n",
    "print(\"Int -> float\", float(5))\n",
    "\n",
    "# transformando de float para inteiro\n",
    "print(\"Float -> int\", int(3.1415))\n",
    "\n",
    "# transformando de inteiro para string\n",
    "print(\"Int -> str\", str(234))"
   ]
  },
  {
   "cell_type": "markdown",
   "metadata": {},
   "source": [
    "## Operações básicas\n",
    "\n",
    "Python suporta as mesmas operações aritiméticas de C com algumas a mais."
   ]
  },
  {
   "cell_type": "code",
   "execution_count": 3,
   "metadata": {},
   "outputs": [
    {
     "name": "stdout",
     "output_type": "stream",
     "text": [
      "Add: 5\n",
      "Sub: 1\n",
      "Mult: 6\n",
      "Div: 1.5\n",
      "Div int: 1\n",
      "Exp: 9\n",
      "x++  3\n"
     ]
    }
   ],
   "source": [
    "x = 2\n",
    "y = 3\n",
    "\n",
    "# Adição\n",
    "print(\"Add:\", y + x)\n",
    "# Subtração\n",
    "print(\"Sub:\", y - x)  \n",
    "# Multiplicação\n",
    "print(\"Mult:\", y * x)  \n",
    "# Divisão real\n",
    "print(\"Div:\", y / x)  \n",
    "# Divisão inteira\n",
    "print(\"Div int:\", y // x) \n",
    "# Exponenciação\n",
    "print(\"Exp:\", y ** x) \n",
    "\n",
    "# Não exite x++\n",
    "x += 1 \n",
    "print(\"x++ \", x)"
   ]
  },
  {
   "cell_type": "markdown",
   "metadata": {},
   "source": [
    "### Operações lógicas\n",
    "\n",
    "Vendo como a sintaxe para lógica é diferente. Aqui há nativamente true e false"
   ]
  },
  {
   "cell_type": "code",
   "execution_count": 4,
   "metadata": {},
   "outputs": [
    {
     "name": "stdout",
     "output_type": "stream",
     "text": [
      "False\n",
      "True\n",
      "True\n",
      "False\n"
     ]
    }
   ],
   "source": [
    "# AND\n",
    "print(True and False)\n",
    "\n",
    "# OR\n",
    "print(True or False)\n",
    "\n",
    "# Variaveis\n",
    "print(var > y)\n",
    "\n",
    "# NOT\n",
    "print(not True)"
   ]
  },
  {
   "cell_type": "markdown",
   "metadata": {},
   "source": [
    "### Strings\n",
    "\n",
    "Algumas funções que já vem prontas para o tratamento de strings"
   ]
  },
  {
   "cell_type": "code",
   "execution_count": 5,
   "metadata": {},
   "outputs": [
    {
     "name": "stdout",
     "output_type": "stream",
     "text": [
      "Split em espaço: ['oi,', 'tudo', 'bem!']\n",
      "Replace na string: oi, tudo bem?\n"
     ]
    }
   ],
   "source": [
    "s = 'oi, tudo bem!'\n",
    "\n",
    "# Split \n",
    "print(\"Split em espaço:\", s.split())\n",
    "\n",
    "# Replace\n",
    "print(\"Replace na string:\", s.replace('!', '?'))"
   ]
  },
  {
   "cell_type": "markdown",
   "metadata": {},
   "source": [
    "## Listas\n",
    "\n",
    "Como fazer arrays em Python e a principal diferença entre C"
   ]
  },
  {
   "cell_type": "code",
   "execution_count": 6,
   "metadata": {},
   "outputs": [
    {
     "name": "stdout",
     "output_type": "stream",
     "text": [
      "[1, 3.14, 5, 7, 8, 'eita', []]\n"
     ]
    }
   ],
   "source": [
    "# Os elementos de uma lista não precisam ser do mesmo tipo\n",
    "\n",
    "l = [1, 3.14, 5, 7, 8, 'eita', []]\n",
    "print(l)"
   ]
  },
  {
   "cell_type": "markdown",
   "metadata": {},
   "source": [
    "### Indexando listas\n",
    "\n",
    "Não tem só uma forma de indexar"
   ]
  },
  {
   "cell_type": "code",
   "execution_count": 7,
   "metadata": {},
   "outputs": [],
   "source": [
    "l = [1, 3, 5, 7, 8, 'eita']"
   ]
  },
  {
   "cell_type": "code",
   "execution_count": 8,
   "metadata": {},
   "outputs": [
    {
     "name": "stdout",
     "output_type": "stream",
     "text": [
      "1\n"
     ]
    }
   ],
   "source": [
    "# Primeiro elemento\n",
    "print(l[0])"
   ]
  },
  {
   "cell_type": "code",
   "execution_count": 9,
   "metadata": {},
   "outputs": [
    {
     "name": "stdout",
     "output_type": "stream",
     "text": [
      "[1, 3, 5, 7]\n"
     ]
    }
   ],
   "source": [
    "# Três primeiros elementos\n",
    "print(l[0:4])"
   ]
  },
  {
   "cell_type": "code",
   "execution_count": 10,
   "metadata": {},
   "outputs": [
    {
     "name": "stdout",
     "output_type": "stream",
     "text": [
      "eita\n"
     ]
    }
   ],
   "source": [
    "# Último elemento\n",
    "print(l[-1])"
   ]
  },
  {
   "cell_type": "code",
   "execution_count": 11,
   "metadata": {},
   "outputs": [
    {
     "name": "stdout",
     "output_type": "stream",
     "text": [
      "[1, 5, 8]\n"
     ]
    }
   ],
   "source": [
    "# Do começo até o fim de dois em dois\n",
    "print(l[::2])"
   ]
  },
  {
   "cell_type": "code",
   "execution_count": 12,
   "metadata": {},
   "outputs": [
    {
     "name": "stdout",
     "output_type": "stream",
     "text": [
      "['eita', 8, 7, 5, 3, 1]\n"
     ]
    }
   ],
   "source": [
    "# Invertendo a lista\n",
    "print(l[::-1])"
   ]
  },
  {
   "cell_type": "markdown",
   "metadata": {},
   "source": [
    "### Aumentando as listas"
   ]
  },
  {
   "cell_type": "code",
   "execution_count": 13,
   "metadata": {},
   "outputs": [],
   "source": [
    "x = [1, 2, 3]\n",
    "y = [5, 6, 7]"
   ]
  },
  {
   "cell_type": "code",
   "execution_count": 14,
   "metadata": {},
   "outputs": [
    {
     "name": "stdout",
     "output_type": "stream",
     "text": [
      "[1, 2, 3, 4]\n"
     ]
    }
   ],
   "source": [
    "# Adicionando um elemento\n",
    "x.append(4)\n",
    "print(x)"
   ]
  },
  {
   "cell_type": "code",
   "execution_count": 15,
   "metadata": {},
   "outputs": [
    {
     "name": "stdout",
     "output_type": "stream",
     "text": [
      "[1, 2, 3, 4, 5, 6, 7]\n"
     ]
    }
   ],
   "source": [
    "# Juntando duas listas\n",
    "print(x + y)"
   ]
  },
  {
   "cell_type": "code",
   "execution_count": 16,
   "metadata": {},
   "outputs": [
    {
     "name": "stdout",
     "output_type": "stream",
     "text": [
      "[1, 2, 3, 4, 1, 2, 3, 4, 1, 2, 3, 4]\n"
     ]
    }
   ],
   "source": [
    "# Multiplicando a lista\n",
    "print(x * 3)"
   ]
  },
  {
   "cell_type": "code",
   "execution_count": 17,
   "metadata": {},
   "outputs": [
    {
     "name": "stdout",
     "output_type": "stream",
     "text": [
      "[0, 0, 0, 0, 0, 0, 0, 0, 0, 0]\n"
     ]
    }
   ],
   "source": [
    "# Jeito padrão de fazer um vetor só de zeros em python\n",
    "zeros = [0] * 10\n",
    "print(zeros)"
   ]
  },
  {
   "cell_type": "markdown",
   "metadata": {},
   "source": [
    "## Fors\n",
    "\n",
    "Sua cabeça pode explodir nessa seção"
   ]
  },
  {
   "cell_type": "code",
   "execution_count": 18,
   "metadata": {},
   "outputs": [
    {
     "name": "stdout",
     "output_type": "stream",
     "text": [
      "0\n",
      "1\n",
      "2\n",
      "3\n",
      "4\n"
     ]
    }
   ],
   "source": [
    "# For de 0 a 4 printando cada elemento\n",
    "\n",
    "for i in range(5):\n",
    "    print(i)"
   ]
  },
  {
   "cell_type": "code",
   "execution_count": 19,
   "metadata": {},
   "outputs": [
    {
     "name": "stdout",
     "output_type": "stream",
     "text": [
      "[0, 1, 2, 3, 4, 5, 6, 7, 8, 9]\n"
     ]
    }
   ],
   "source": [
    "# Lista que vai de 0 a 9\n",
    "\n",
    "l = []\n",
    "for i in range(10):\n",
    "    l.append(i)\n",
    "    \n",
    "print(l)"
   ]
  },
  {
   "cell_type": "markdown",
   "metadata": {},
   "source": [
    "Há uma grande diferença da forma como Python e C fazem uso do for"
   ]
  },
  {
   "cell_type": "code",
   "execution_count": 20,
   "metadata": {},
   "outputs": [
    {
     "name": "stdout",
     "output_type": "stream",
     "text": [
      "0\n",
      "1\n",
      "2\n",
      "3\n",
      "4\n",
      "5\n",
      "6\n",
      "7\n",
      "8\n",
      "9\n"
     ]
    }
   ],
   "source": [
    "# For sobre lista como em C\n",
    "\n",
    "for i in range(len(l)):\n",
    "    print(l[i])"
   ]
  },
  {
   "cell_type": "code",
   "execution_count": 21,
   "metadata": {},
   "outputs": [
    {
     "name": "stdout",
     "output_type": "stream",
     "text": [
      "0\n",
      "1\n",
      "2\n",
      "3\n",
      "4\n",
      "5\n",
      "6\n",
      "7\n",
      "8\n",
      "9\n"
     ]
    }
   ],
   "source": [
    "# For sobre lista python\n",
    "\n",
    "for x in l:\n",
    "    print(x)"
   ]
  },
  {
   "cell_type": "markdown",
   "metadata": {},
   "source": [
    "### Pythonic way -  List comprehension"
   ]
  },
  {
   "cell_type": "code",
   "execution_count": 22,
   "metadata": {},
   "outputs": [
    {
     "data": {
      "text/plain": [
       "[0, 1, 2, 3, 4, 5, 6, 7, 8, 9]"
      ]
     },
     "execution_count": 22,
     "metadata": {},
     "output_type": "execute_result"
    }
   ],
   "source": [
    "# Lista que vai de 0 a 9. Faz a mesma coisa que o código que gerou a lista l só que em uma linha\n",
    "\n",
    "[i for i in range(10)]"
   ]
  },
  {
   "cell_type": "code",
   "execution_count": 23,
   "metadata": {},
   "outputs": [
    {
     "data": {
      "text/plain": [
       "[0, 2, 4, 6, 8]"
      ]
     },
     "execution_count": 23,
     "metadata": {},
     "output_type": "execute_result"
    }
   ],
   "source": [
    "# Lista de 0 a 9 só com pares\n",
    "\n",
    "[i for i in range(10) if i % 2 == 0]"
   ]
  },
  {
   "cell_type": "code",
   "execution_count": 24,
   "metadata": {},
   "outputs": [
    {
     "name": "stdout",
     "output_type": "stream",
     "text": [
      "a 1\n",
      "b 2\n",
      "c 3\n"
     ]
    }
   ],
   "source": [
    "# For em duas listas ao mesmo tempo\n",
    "\n",
    "x = ['a', 'b', 'c']\n",
    "y = [1, 2, 3]\n",
    "\n",
    "for letra, numero in zip(x, y):\n",
    "    print(letra, numero)"
   ]
  },
  {
   "cell_type": "markdown",
   "metadata": {},
   "source": [
    "## Dicionários\n",
    "\n",
    "Dicionários são tabela hash que armazenam uma chave e um valor"
   ]
  },
  {
   "cell_type": "code",
   "execution_count": 25,
   "metadata": {},
   "outputs": [
    {
     "data": {
      "text/plain": [
       "{'oi': 5, 'tchau': 10}"
      ]
     },
     "execution_count": 25,
     "metadata": {},
     "output_type": "execute_result"
    }
   ],
   "source": [
    "a = {'oi': 5, 'tchau': 10}\n",
    "\n",
    "a"
   ]
  },
  {
   "cell_type": "markdown",
   "metadata": {},
   "source": [
    "É possível iterar sobre o dicionário da mesma forma como sobre as listas, só precisa escolher sobre o que "
   ]
  },
  {
   "cell_type": "code",
   "execution_count": 26,
   "metadata": {},
   "outputs": [
    {
     "name": "stdout",
     "output_type": "stream",
     "text": [
      "dict_keys(['oi', 'tchau'])\n",
      "dict_values([5, 10])\n",
      "dict_items([('oi', 5), ('tchau', 10)])\n"
     ]
    }
   ],
   "source": [
    "# Keys\n",
    "print(a.keys())\n",
    "\n",
    "# Values \n",
    "print(a.values())\n",
    "\n",
    "# Items\n",
    "print(a.items())"
   ]
  },
  {
   "cell_type": "markdown",
   "metadata": {},
   "source": [
    "## Função\n",
    "\n",
    "Como sempre, é possível usar como se fosse em C mas o Python apresenta algumas funcionalidades a mais"
   ]
  },
  {
   "cell_type": "code",
   "execution_count": 27,
   "metadata": {},
   "outputs": [
    {
     "data": {
      "text/plain": [
       "20"
      ]
     },
     "execution_count": 27,
     "metadata": {},
     "output_type": "execute_result"
    }
   ],
   "source": [
    "# Função normal\n",
    "\n",
    "def fun(a, b):\n",
    "    return a * b\n",
    "\n",
    "fun(4, 5)"
   ]
  },
  {
   "cell_type": "code",
   "execution_count": 28,
   "metadata": {},
   "outputs": [
    {
     "data": {
      "text/plain": [
       "(2, 4)"
      ]
     },
     "execution_count": 28,
     "metadata": {},
     "output_type": "execute_result"
    }
   ],
   "source": [
    "# Função que retorna 2 elementos\n",
    "\n",
    "def fun2(a, b):\n",
    "    return a * 2, b * 2\n",
    "\n",
    "fun2(1, 2)"
   ]
  },
  {
   "cell_type": "code",
   "execution_count": 29,
   "metadata": {},
   "outputs": [],
   "source": [
    "# Função com argumento padrão\n",
    "\n",
    "def func3(a, b = 10):\n",
    "    return a * b"
   ]
  },
  {
   "cell_type": "code",
   "execution_count": 30,
   "metadata": {},
   "outputs": [
    {
     "name": "stdout",
     "output_type": "stream",
     "text": [
      "10\n",
      "50\n"
     ]
    }
   ],
   "source": [
    "# Chamando normalmente\n",
    "print(func3(5, 2))\n",
    "\n",
    "# Sem passar o parametro\n",
    "print(func3(5))"
   ]
  }
 ],
 "metadata": {
  "kernelspec": {
   "display_name": "Python 3",
   "language": "python",
   "name": "python3"
  },
  "language_info": {
   "codemirror_mode": {
    "name": "ipython",
    "version": 3
   },
   "file_extension": ".py",
   "mimetype": "text/x-python",
   "name": "python",
   "nbconvert_exporter": "python",
   "pygments_lexer": "ipython3",
   "version": "3.6.5"
  }
 },
 "nbformat": 4,
 "nbformat_minor": 2
}
